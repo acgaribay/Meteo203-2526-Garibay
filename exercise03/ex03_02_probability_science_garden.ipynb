{
 "cells": [
  {
   "cell_type": "markdown",
   "id": "f3152085-08bd-443c-8d26-85bb22731825",
   "metadata": {},
   "source": [
    "# Exercise 3. Basic Introduction to Probability\n",
    "\n",
    "## Part 2. Real-World Probability (Science Garden)"
   ]
  },
  {
   "cell_type": "markdown",
   "id": "53b61b1f-15e6-4089-92b4-af3a7a403320",
   "metadata": {},
   "source": [
    "### Task 1. Loading real data.\n",
    "\n",
    "First, let's load a dataset of daily observations from Science Garden covering the years 2009 to 2024. Each row represents weather data for a single day."
   ]
  },
  {
   "cell_type": "code",
   "execution_count": null,
   "id": "ff05046d-cc98-423d-9762-7c030118fc8c",
   "metadata": {},
   "outputs": [],
   "source": [
    "import pandas as pd\n",
    "\n",
    "# Load the dataset\n",
    "file_path = '../../data/2009-2024_SCIENCE_GARDEN.csv'\n",
    "df = pd.read_csv(file_path)\n",
    "\n",
    "# Quick preview\n",
    "df.head()\n"
   ]
  },
  {
   "cell_type": "markdown",
   "id": "5d037636-97b7-4147-98f8-7e49bb2b7764",
   "metadata": {},
   "source": [
    "#### Questions for Task 1\n",
    "1. How many rows are in the dataset? What does each row represent?\n",
    "2. How many columns? What kinds of variables are present?\n",
    "3. Are there any missing values?\n",
    "4. What are the earliest and latest years in the data?\n",
    "\n",
    "#### Some helpful commands\n",
    "\n",
    "```python\n",
    "# Show first few rows\n",
    "df.head()\n",
    "\n",
    "# Get the number of rows and columns\n",
    "df.shape\n",
    "\n",
    "# List all column names\n",
    "df.columns\n",
    "\n",
    "# Summary of each column\n",
    "df.info()\n",
    "\n",
    "# Quick stats (mean, min, max, etc.) for numeric columns\n",
    "df.describe()\n",
    "```"
   ]
  },
  {
   "cell_type": "markdown",
   "id": "93656936-fc67-4a23-b3bd-313b408c4a43",
   "metadata": {},
   "source": []
  },
  {
   "cell_type": "markdown",
   "id": "1669d3f6-1d20-4190-bcd3-1e1c399ebcbc",
   "metadata": {},
   "source": [
    "---"
   ]
  },
  {
   "cell_type": "markdown",
   "id": "26590141-5454-4db5-bd23-27b549f91965",
   "metadata": {},
   "source": [
    "### Task 2a. Defining Rainy Days\n",
    "\n",
    "Let’s define a rainy day as any day where `PRCP_mm > 0`. We'll create a new column called `is_rainy` that stores a `1` for rainy days, and `0` for dry days.\n",
    "\n",
    "This binary classification allows us to treat rain as a simple yes/no event, perfect for computing basic probabilities."
   ]
  },
  {
   "cell_type": "code",
   "execution_count": null,
   "id": "1a245962-1274-42d2-913d-338e38b7e71b",
   "metadata": {},
   "outputs": [],
   "source": [
    "# Define rainy days (1 if PRCP_mm > 0, else 0)\n",
    "df['is_rainy'] = (df['PRCP_mm'] > ).astype(int)\n",
    "\n",
    "# Check\n",
    "df[['date', 'PRCP_mm', 'is_rainy']].head(10)\n"
   ]
  },
  {
   "cell_type": "markdown",
   "id": "864bf17f-b1e0-4769-a4da-d343a9bb8019",
   "metadata": {},
   "source": [
    "### Task 2b. Comparing Rainy Day Probabilities for single years.\n",
    "\n",
    "Now that we’ve defined what counts as a rainy day, we can start computing probabilities.\n",
    "\n",
    "Let's calculate:\n",
    "- Probability of a rainy day in 2009\n",
    "- Probability of a rainy day in 2010\n",
    "\n",
    "This is simply the proportion of days with `is_rainy == 1` in each year."
   ]
  },
  {
   "cell_type": "code",
   "execution_count": null,
   "id": "66deb140-7f4d-42d3-b8ce-1d3f9521922f",
   "metadata": {},
   "outputs": [],
   "source": [
    "# Subset the data for each year\n",
    "df_2009 = df[df['YEAR'] == ]\n",
    "df_2010 = df[df['YEAR'] == ]\n",
    "\n",
    "# Calculate the probability of a rainy day\n",
    "p_rain_2009 = df_2009['is_rainy'].mean()\n",
    "p_rain_2010 = df_2010['is_rainy'].mean()\n",
    "\n",
    "print(f\"Probability of rain in 2009: {p_rain_2009:.4f}\")\n",
    "print(f\"Probability of rain in 2010: {p_rain_2010:.4f}\")\n"
   ]
  },
  {
   "cell_type": "markdown",
   "id": "6b144221-44f1-4a6f-9092-ebed8fb30f68",
   "metadata": {},
   "source": [
    "### Task 2c. Comparing Rainy Day Probabilities for all available years.\n",
    "\n",
    "In the crash course, we learned about [for loops](../../crash-course/02b_for_loops.ipynb). We can create a loop that calculates the probability of a rainy day for each year in the dataset and store it in a new DataFrame called rain_prob_by_year.\n",
    "\n",
    "We loop through the available years (`years = sorted(df['year'].unique())`) and then subsetting the df (`subset = df[df['year'] == y]`), getting the relevant columns and appending in the `results` array. Finally, we convert `results` to a dataframe (`rain_prob_by_year = pd.DataFrame(results)`)."
   ]
  },
  {
   "cell_type": "code",
   "execution_count": null,
   "id": "e00bf07b-c78b-4600-8dff-adc041494dc9",
   "metadata": {},
   "outputs": [],
   "source": [
    "# Get unique years in the dataset (sorted)\n",
    "years = sorted(df['year'].unique())\n",
    "\n",
    "# Create an empty list to store results\n",
    "results = []\n",
    "\n",
    "# Loop through each year and calculate rainy day probability\n",
    "for y in years:\n",
    "    subset = df[df['year'] == y]\n",
    "    prob_rain = subset['is_rainy'].mean()\n",
    "    total_rain = subset['PRCP_mm'].sum()\n",
    "    results.append({'year': y, 'P_rain': prob_rain, 'total_rain': total_rain})\n",
    "\n",
    "# Convert the list of results to a DataFrame\n",
    "rain_prob_by_year = pd.DataFrame(results)\n",
    "\n",
    "# Show the results\n",
    "rain_prob_by_year\n"
   ]
  },
  {
   "cell_type": "markdown",
   "id": "eba325ad-5d0c-47ad-b2f3-f5fe5e0f4736",
   "metadata": {},
   "source": [
    "### Task 2d. Visualize rainy day probabilities. \n",
    "\n",
    "Now that we have the yearly probabilities of rainy days stored in `rain_prob_by_year`, let’s create a  plot to visualize how the likelihood of rain changes from year to year.\n",
    "\n",
    "You can start with something like:\n",
    "\n",
    "``` python\n",
    "import matplotlib.pyplot as plt\n",
    "plt.plot(...)\n",
    "plt.show()\n",
    "```\n",
    "\n",
    "Hint: \n",
    "[`plt.plot()`](https://matplotlib.org/stable/api/_as_gen/matplotlib.pyplot.plot.html) uses the following syntax\n",
    "\n",
    "```python\n",
    "plt.plot([x], y, [fmt], *, data=None, **kwargs)\n",
    "```\n",
    "We can subset `rain_prob_by_year` as follows\n",
    "- `rain_prob_by_year['year']`\n",
    "- `rain_prob_by_year['P_rain']`\n",
    "- `rain_prob_by_year['total_rain']`\n",
    "\n",
    "\n",
    "Create two cells below that plots `P_rain` and `total_rain`"
   ]
  },
  {
   "cell_type": "code",
   "execution_count": null,
   "id": "df4ec2db-767c-4bbf-a386-30e5ffd09ba6",
   "metadata": {},
   "outputs": [],
   "source": [
    "import matplotlib.pyplot as plt\n",
    "plt.plot(rain_prob_by_year['year'], ... , '-o')\n",
    "plt.title('Probability of rain per year, Science Garden (2009 - 2024).')\n",
    "plt.show()"
   ]
  },
  {
   "cell_type": "code",
   "execution_count": null,
   "id": "c3a8b26e-38d2-49c6-8cbc-8ad367c4cf14",
   "metadata": {},
   "outputs": [],
   "source": [
    "import matplotlib.pyplot as plt\n",
    "plt.plot(rain_prob_by_year['year'], ... , '-ro')\n",
    "plt.title('Total rain per year, Science Garden (2009-2024).')\n",
    "plt.show()"
   ]
  },
  {
   "cell_type": "markdown",
   "id": "4f4da958-6228-4f78-908f-e51588a714ed",
   "metadata": {},
   "source": [
    "#### Questions for Task 2\n",
    "1. Between 2009 and 2010, which year had a higher chance of rain? Can you guess why? What might have influenced this?\n",
    "2. Compare the plots of probabilities and total rainfall. What other years have high probabilities of rain? What years have high amounts of rain?\n",
    "3. What kind of rain events might increase the total rainfall but not the frequency?\n",
    "4. One measures **how much rain falls**, the other measures **how often it rains**. When is it useful to calculate the total amount of rain? When is it more useful to focus on the probability or frequency of rain?"
   ]
  },
  {
   "cell_type": "markdown",
   "id": "ddc41b98-abb1-47d1-9ca8-ee6fc6c79477",
   "metadata": {},
   "source": []
  },
  {
   "cell_type": "markdown",
   "id": "40305736-bb70-4a95-b934-2ddfc4328330",
   "metadata": {},
   "source": [
    "---"
   ]
  },
  {
   "cell_type": "markdown",
   "id": "8ae927a2-1d0e-4e0f-823f-c7165ecc1a7d",
   "metadata": {},
   "source": [
    "### Task 3a. Probability of a Hot and Rainy Day (Joint Event)\n",
    "Now that we've looked at rainy days, let’s introduce another condition: hot days.\n",
    "\n",
    "We’ll define a hot day as any day with a maximum temperature (`MAX_C`) above a certain threshold, for example, 35°C.\n",
    "\n",
    "P(hot ∩ rainy) = Probability that a day is both hot and rainy in 2010"
   ]
  },
  {
   "cell_type": "code",
   "execution_count": null,
   "id": "b05e4469-64fb-4678-99d9-2b7d7ca0bbfe",
   "metadata": {},
   "outputs": [],
   "source": [
    "# Focus on a single year\n",
    "df_2010 = df[df['YEAR'] == 2010].copy()\n",
    "\n",
    "# Define hot days: MAX_C > 35\n",
    "df_2010['is_hot'] = (df_2010['MAX_C'] > 35).astype(int)\n",
    "\n",
    "# Joint event: hot AND rainy\n",
    "df_2010['hot_and_rainy'] = ((df_2010['is_hot'] == 1) & (df_2010['is_rainy'] == 1)).astype(int)\n",
    "\n",
    "# Calculate joint probability\n",
    "p_hot_and_rainy = df_2010['hot_and_rainy'].mean()\n",
    "\n",
    "print(f\"Probability of a hot and rainy day in 2010: {p_hot_and_rainy:.4f}\")\n"
   ]
  },
  {
   "cell_type": "markdown",
   "id": "047572af-25cc-403f-b624-1b7d799260ea",
   "metadata": {},
   "source": [
    "### Task 3b. Probability of a Cool and Rainy Day (Joint Event)\n",
    "In a new cell below, copy the script above and calculate the joint probability for cool (`MIN_C<25`) and rainy days. "
   ]
  },
  {
   "cell_type": "code",
   "execution_count": null,
   "id": "f3a8aba3-d65d-40e2-bee8-f4cb667397b6",
   "metadata": {},
   "outputs": [],
   "source": []
  },
  {
   "cell_type": "markdown",
   "id": "87d090c3-a674-456f-b9ac-68896c555efb",
   "metadata": {},
   "source": [
    "#### Questions for Task 3\n",
    "1. Is the probability of a cool and rainy day higher or lower than the probability of a hot and rainy day in 2010?\n",
    "2. Does this match your expectations based on your own experience of rainy weather?\n",
    "3. What might be the typical season or weather pattern that causes cool and rainy days in the Philippines?\n",
    "4. Why might minimum temperature be more closely linked to rain than maximum temperature?"
   ]
  },
  {
   "cell_type": "markdown",
   "id": "5d7893e2-c40e-4d65-9063-566a748cd59c",
   "metadata": {},
   "source": []
  },
  {
   "cell_type": "markdown",
   "id": "b81b4990-f2d1-4112-9940-0fd0f80143f3",
   "metadata": {},
   "source": [
    "---\n",
    "\n",
    "### Final Questions\n",
    "\n",
    "1. What are the advantages of using probability instead of just counting rainy or hot days?\n",
    "2. How does working with real data (versus synthetic data) change your understanding of uncertainty?\n",
    "3. Which combinations of weather conditions were common? Which were rare?\n",
    "4. When is it more helpful to calculate the total amount of rain, and when is it more useful to calculate the probability of rain? (What kinds of questions can each one answer?)\n",
    "5. What are some challenges or limitations you noticed when working with real data?\n",
    "6. If you had more time or more weather variables, what patterns would you want to explore next?"
   ]
  },
  {
   "cell_type": "markdown",
   "id": "27c51c92-df4d-45d1-b4cb-47085061f547",
   "metadata": {},
   "source": []
  }
 ],
 "metadata": {
  "kernelspec": {
   "display_name": "Python (meteo203)",
   "language": "python",
   "name": "meteo203"
  },
  "language_info": {
   "codemirror_mode": {
    "name": "ipython",
    "version": 3
   },
   "file_extension": ".py",
   "mimetype": "text/x-python",
   "name": "python",
   "nbconvert_exporter": "python",
   "pygments_lexer": "ipython3",
   "version": "3.10.14"
  }
 },
 "nbformat": 4,
 "nbformat_minor": 5
}
