{
 "cells": [
  {
   "cell_type": "markdown",
   "id": "f6e45627-c184-4fbf-9b56-cb83dfb36d2c",
   "metadata": {},
   "source": [
    "# How to Read IMERG Data Using Python\n",
    "Notebook adapted from [GES DISC Tutorials](https://github.com/nasa/gesdisc-tutorials/). Ensure that you have installed the environment: [gridded_env](../../gridded_environment_readme.md).\n",
    "\n",
    "---"
   ]
  },
  {
   "cell_type": "markdown",
   "id": "ead74fae-8e78-4f22-a0e2-1ecfde7fa2f1",
   "metadata": {},
   "source": [
    "### 1\\. Download the data\n",
    "\n",
    "Before accessing data at GES DISC, a  user must first register with Earthdata Login, then be authorized to access data at GES DISC by following steps at:  [data-access.](https://disc.gsfc.nasa.gov/information/documents?title=Data%20Access)\n",
    "\n",
    "- In a web browser, go to: https://disc.gsfc.nasa.gov\n",
    "- In the Search field, enter GPM_3IMERGM and press enter. Figure 1 shows a screen shot of what the search results look like. \n",
    "- Click on the latest version of the GPM_3IMERGM data, currently version 7.\n",
    "- Click on the [\"Online Archive\"](https://gpm1.gesdisc.eosdis.nasa.gov/data/GPM_L3/GPM_3IMERGM.07/) button on the right.\n",
    "    - click on the \"2009/\" folder\n",
    "    - click on the link \"[3B-MO.MS.MRG.3IMERG.20090901-S000000-E235959.09.V07B.HDF5](https://gpm1.gesdisc.eosdis.nasa.gov/data/GPM_L3/GPM_3IMERGM.07/2009/3B-MO.MS.MRG.3IMERG.20090901-S000000-E235959.09.V07B.HDF5)\" to download the data file.\n",
    "- **Note:** this recipe works for any IMERG data, not just monthly estimates."
   ]
  },
  {
   "cell_type": "markdown",
   "id": "40e9c272-42ca-4f3e-9578-30254b9411b7",
   "metadata": {},
   "source": [
    "<img src =\"https://disc.gsfc.nasa.gov/api/images/GPM_3IMERGM_figure1/file\" title=\"Image1\" width=650 height=500 />\n",
    "\n",
    "**Figure 1:** Example GES DISC search results for GPM_3IMERGM."
   ]
  },
  {
   "cell_type": "markdown",
   "id": "c472468d-b220-4b18-855c-c21dff0078a3",
   "metadata": {},
   "source": [
    "Alternatively, for 30-minute data resolution you can register with [NASA Precipitation Processing System (PPS)](https://registration.pps.eosdis.nasa.gov/registration/), and navigate to https://arthurhouhttps.pps.eosdis.nasa.gov/gpmdata/ using your email address as the username and password.\n",
    "\n",
    "In case you aren't able to download the file, it is also provided in this folder."
   ]
  },
  {
   "cell_type": "markdown",
   "id": "e8e2181d-a8a9-487d-96d4-ce5ba7a10b14",
   "metadata": {},
   "source": [
    "### 2\\. Read and plot IMERG data using the cells below\n",
    "Ensure that you are in gridded_env. Refer to [gridded environmnent documentation](../../gridded_environment_readme.md).\n",
    "\n",
    "Alternatively, install the h5py package in your preferred environment using the script below. Copy, paste and run the provided script in a new cell. Do not forget the exclamation point.\n",
    "\n",
    "```bash\n",
    "!conda install conda-forge::h5py --name meteo203 -y\n",
    "```\n"
   ]
  },
  {
   "cell_type": "markdown",
   "id": "42a5f982-a709-4e0c-88e5-8971b800afed",
   "metadata": {},
   "source": [
    "#### Read the data\n",
    "Imports"
   ]
  },
  {
   "cell_type": "code",
   "execution_count": null,
   "id": "c4d8276a-d04b-45c6-b200-b9b434f7073a",
   "metadata": {},
   "outputs": [],
   "source": [
    "import h5py\n",
    "import numpy as np\n",
    "import matplotlib.pyplot as plt\n",
    "import cartopy\n",
    "import cartopy.crs as ccrs\n",
    "from cartopy.mpl.gridliner import LONGITUDE_FORMATTER, LATITUDE_FORMATTER\n",
    "import matplotlib.ticker as mticker"
   ]
  },
  {
   "cell_type": "markdown",
   "id": "343866c9-291c-4e8d-bc94-45d5b23f7f2f",
   "metadata": {},
   "source": [
    "Open the IMERG data"
   ]
  },
  {
   "cell_type": "code",
   "execution_count": null,
   "id": "6c369591-c2d3-48cf-b5a7-d6fea93b7e5a",
   "metadata": {},
   "outputs": [],
   "source": [
    "# It may be necessary to add a path to the filename if it is not in the working directory\n",
    "fn = '3B-MO.MS.MRG.3IMERG.20090901-S000000-E235959.09.V07B.HDF5'\n",
    "f = h5py.File(fn, 'r')"
   ]
  },
  {
   "cell_type": "markdown",
   "id": "ed4625d9-bdbc-4df7-8f48-a98129dbe69b",
   "metadata": {},
   "source": [
    "In reading hierarchal gridded data, we first try to take a look at the available groups. From the open file `f`, we try to read `f.keys()`"
   ]
  },
  {
   "cell_type": "code",
   "execution_count": null,
   "id": "ac5a5457-8e02-49f9-8fb3-8c8ac1c1ab5a",
   "metadata": {},
   "outputs": [],
   "source": [
    "groups = [ x for x in f.keys() ]\n",
    "print(groups)"
   ]
  },
  {
   "cell_type": "markdown",
   "id": "8be4bcca-b04f-4abc-bf8a-5a180f994b08",
   "metadata": {},
   "source": [
    "For this particular dataset we have `Grid` as the only group. Take note that for other datasets, there may be other groups. For now we proceed with exploring what `Grid` contains. First we print `f['Grid']`."
   ]
  },
  {
   "cell_type": "code",
   "execution_count": null,
   "id": "ffde07de-02e9-412a-9467-1157b2819f63",
   "metadata": {},
   "outputs": [],
   "source": [
    "print(f['Grid'])"
   ]
  },
  {
   "cell_type": "markdown",
   "id": "c644be6a-aced-4c95-961c-5dbd18b7934e",
   "metadata": {},
   "source": [
    "We see that file `f`, has a group `Grid` with 14 members. Let's now print these 14 members."
   ]
  },
  {
   "cell_type": "code",
   "execution_count": null,
   "id": "edb3a64d-5b46-448f-b05d-c9949adcfa6b",
   "metadata": {},
   "outputs": [],
   "source": [
    "gridMembers = [ x for x in f['Grid'] ]\n",
    "print(gridMembers)"
   ]
  },
  {
   "cell_type": "markdown",
   "id": "86e9c81b-b162-4064-b23e-3255d0a5a338",
   "metadata": {},
   "source": [
    "When dissecting hierarchal gridded data, it's always best practice to read the manual. In the case of GPM, most documents can be found in their website [here](https://gpm.nasa.gov/resources/documents). \n",
    "\n",
    "But for the purposes of this exercise, we'll be needing the following variables:\n",
    "\n",
    "- `precipitation`\n",
    "- `lat`\n",
    "- `lon`\n",
    "\n",
    "We can extract these by calling `f['Grid/variable']`. Let's try calling `f['Grid/precipitation']`"
   ]
  },
  {
   "cell_type": "code",
   "execution_count": null,
   "id": "d964cafe-4876-44f0-9e45-f25f846d2632",
   "metadata": {},
   "outputs": [],
   "source": [
    "print(f['Grid/precipitation'])"
   ]
  },
  {
   "cell_type": "markdown",
   "id": "3210ab71-d9c7-49c1-b527-6151c0d4bf69",
   "metadata": {},
   "source": [
    "We see that `f['Grid/precipitation']` has shape (1, 3600, 1800). \n",
    "\n",
    "- The first dimension is usually the `time` dimension. For this since we are taking a look at monthly totals, `t=1` for 1 month.\n",
    "- The second dimenstion `(3600)` is the columns, or `longitude` grid.\n",
    "- The third dimension `(1800)` is the latitude grid.\n",
    "\n",
    "Now let's save this in a variable `precip`"
   ]
  },
  {
   "cell_type": "code",
   "execution_count": null,
   "id": "fab48699-b75b-4f3d-aaba-ab70e8bae0a3",
   "metadata": {},
   "outputs": [],
   "source": [
    "precip = f['Grid/precipitation'][0][:][:]\n",
    "\n",
    "# This step is subtle but important. We transpose the data to ensure that\n",
    "# it matches the expected (row x column) orientation for plotting with matplotlib,\n",
    "# rather than the (column x row) storage format commonly found in the raw data.\n",
    "precip = np.transpose(precip) "
   ]
  },
  {
   "cell_type": "markdown",
   "id": "432ebd16-1bb1-435c-906d-2d737728a425",
   "metadata": {},
   "source": [
    "#### Explore and plot the data\n",
    "\n",
    "Now let's explore the data by printing the array, and then plotting."
   ]
  },
  {
   "cell_type": "code",
   "execution_count": null,
   "id": "c52e0f26-83a7-443f-a2dd-64e6d480f6f3",
   "metadata": {},
   "outputs": [],
   "source": [
    "# Print the precipitation data array\n",
    "print(precip)\n",
    "\n",
    "# Attempt a basic plot of the precipitation data\n",
    "plt.imshow(precip)\n",
    "plt.colorbar(label='Precipitation (mm/hr)')\n",
    "plt.title(\"Initial Precipitation Data Plot\")\n",
    "plt.show()\n"
   ]
  },
  {
   "cell_type": "markdown",
   "id": "00c43062-4fd9-41bc-8ae6-809392b69d28",
   "metadata": {},
   "source": [
    "You might notice that the plot doesn’t look quite right yet because we haven’t handled the missing values in the dataset. The data uses `-9999.99` as a fill value to indicate areas with no data, and these values need to be masked.\n",
    "\n",
    "To mask these fill values, we’ll use `np.ma.masked_values`, which is specifically designed to handle and ignore these values in calculations and plots."
   ]
  },
  {
   "cell_type": "code",
   "execution_count": null,
   "id": "95416f62-b4ce-4d49-88fc-50a6d9a884b4",
   "metadata": {},
   "outputs": [],
   "source": [
    "# Mask the fill values in the precipitation data\n",
    "masked_precip = np.ma.masked_values(precip, -9999.99)"
   ]
  },
  {
   "cell_type": "markdown",
   "id": "867c33a7-0d3d-417b-9c32-c95db70d5687",
   "metadata": {},
   "source": [
    "Now that we've masked the invalid data, let's plot."
   ]
  },
  {
   "cell_type": "code",
   "execution_count": null,
   "id": "6965f17c-e3fb-4abb-a7ae-f7b72331142c",
   "metadata": {},
   "outputs": [],
   "source": [
    "# Plot the precipitation data with masked values\n",
    "plt.imshow(masked_precip, cmap='Blues')\n",
    "plt.colorbar(label='Precipitation (mm/hr)')\n",
    "plt.title(\"Precipitation Data (Masked)\")\n",
    "plt.show()"
   ]
  },
  {
   "cell_type": "markdown",
   "id": "1d32e6f0-7d9d-442d-a052-c3c712cb6257",
   "metadata": {},
   "source": [
    "#### Calculate basic statistics\n",
    "Now, let’s calculate some basic statistics to understand the precipitation values better."
   ]
  },
  {
   "cell_type": "code",
   "execution_count": null,
   "id": "4ccfb1e8-df5f-4c4f-bb70-721e08f85764",
   "metadata": {},
   "outputs": [],
   "source": [
    "mean_precip = masked_precip.mean()\n",
    "max_precip = masked_precip.max()\n",
    "min_precip = masked_precip.min()\n",
    "\n",
    "print(\"Mean Precipitation:\", mean_precip, \"mm/hr\")\n",
    "print(\"Max Precipitation:\", max_precip, \"mm/hr\")\n",
    "print(\"Min Precipitation:\", min_precip, \"mm/hr\")\n"
   ]
  },
  {
   "cell_type": "markdown",
   "id": "9cf840c2-81ee-4a44-97cb-54ff6b990eff",
   "metadata": {},
   "source": [
    "For a deeper look, we can calculate the zonal (latitude-wise) and meridional (longitude-wise) means to see how precipitation varies across different latitudes and longitudes."
   ]
  },
  {
   "cell_type": "code",
   "execution_count": null,
   "id": "5110d68c-ef7e-46ef-9392-4daff7fc2932",
   "metadata": {},
   "outputs": [],
   "source": [
    "# Zonal (latitude-wise) mean precipitation\n",
    "zonal_mean = masked_precip.mean(axis=1)\n",
    "\n",
    "# Meridional (longitude-wise) mean precipitation\n",
    "meridional_mean = masked_precip.mean(axis=0)\n",
    "\n",
    "# Plotting zonal and meridional means\n",
    "fig, (ax1, ax2) = plt.subplots(1, 2, figsize=(12, 5))\n",
    "\n",
    "# Zonal mean plot\n",
    "ax1.plot(zonal_mean, range(masked_precip.shape[0]))\n",
    "ax1.set_title(\"Zonal Mean Precipitation\")\n",
    "ax1.set_xlabel(\"Mean Precipitation (mm/hr)\")\n",
    "ax1.set_ylabel(\"Latitude\")\n",
    "\n",
    "# Meridional mean plot\n",
    "ax2.plot(range(masked_precip.shape[1]), meridional_mean)\n",
    "ax2.set_title(\"Meridional Mean Precipitation\")\n",
    "ax2.set_xlabel(\"Longitude\")\n",
    "ax2.set_ylabel(\"Mean Precipitation (mm/hr)\")\n",
    "\n",
    "plt.tight_layout()\n",
    "plt.show()\n"
   ]
  },
  {
   "cell_type": "markdown",
   "id": "747db390-30a2-4c3e-9ea7-3106463978cc",
   "metadata": {},
   "source": [
    "So far, we've calculated zonal (latitude-wise) means directly using the rows and columns of our precipitation data array. In this approach, each row corresponds to a latitude band, and each column corresponds to a longitude band. While this method works for initial exploration, it treats the grid purely in terms of array positions (i.e., row and column indices) without considering the **actual geographic coordinates**.\n",
    "\n",
    "To accurately plot our data on a map, we need to align each precipitation value with its **real-world latitude and longitude coordinates**. \n",
    "\n",
    "This requires:\n",
    "\n",
    "1. Extracting Actual Latitude and Longitude:\n",
    "\n",
    "    - The GPM data includes Grid/lat and Grid/lon, which provide the actual latitude and longitude values for each grid cell. These coordinates allow us to map each grid point to its precise geographic location.\n",
    "\n",
    "2. Creating a Meshgrid:\n",
    "   \n",
    "    - Using these latitude and longitude values, we’ll create a meshgrid, which aligns each precipitation value with its corresponding latitude and longitude on the globe.\n",
    "    - The meshgrid will give us two 2D arrays (x and y) that correspond to the precip data array, effectively transforming our grid into a format that can be visualized geographically.\n",
    "\n",
    "With these geographic coordinates in place, we’ll be ready to plot the precipitation data on a map, showing how the precipitation varies across real-world latitudes and longitudes."
   ]
  },
  {
   "cell_type": "code",
   "execution_count": null,
   "id": "24806214-ca9e-4fc1-8fe3-e56dab910d31",
   "metadata": {},
   "outputs": [],
   "source": [
    "# Extract latitude and longitude arrays from the file\n",
    "theLats = f['Grid/lat'][:]\n",
    "theLons = f['Grid/lon'][:]\n",
    "\n",
    "# Create a 2D meshgrid of latitude and longitude points to match the shape of the data\n",
    "x, y = np.float32(np.meshgrid(theLons, theLats))\n"
   ]
  },
  {
   "cell_type": "markdown",
   "id": "625e2812-6156-468f-bf8c-ab4161989e4d",
   "metadata": {},
   "source": [
    "Now that we have the actual longitude (theLons) and latitude (theLats) values extracted, we can use them as axes for our zonal (latitude-wise) and meridional (longitude-wise) mean plots. This makes the plots more geographically accurate and interpretable."
   ]
  },
  {
   "cell_type": "code",
   "execution_count": null,
   "id": "1ae97445-26dd-4bae-94b8-25935fec2e80",
   "metadata": {},
   "outputs": [],
   "source": [
    "import matplotlib.pyplot as plt\n",
    "\n",
    "# Calculate zonal (latitude-wise) and meridional (longitude-wise) means\n",
    "zonal_mean = masked_precip.mean(axis=1)  # Mean across longitudes for each latitude\n",
    "meridional_mean = masked_precip.mean(axis=0)  # Mean across latitudes for each longitude\n",
    "\n",
    "# Plotting zonal and meridional means with actual lats and lons\n",
    "fig, (ax1, ax2) = plt.subplots(1, 2, figsize=(12, 5))\n",
    "\n",
    "# Zonal mean plot (latitude-wise mean)\n",
    "ax1.plot(zonal_mean, theLats)\n",
    "ax1.set_title(\"Zonal Mean Precipitation\")\n",
    "ax1.set_xlabel(\"Mean Precipitation (mm/hr)\")\n",
    "ax1.set_ylabel(\"Latitude\")\n",
    "\n",
    "\n",
    "# Meridional mean plot (longitude-wise mean)\n",
    "ax2.plot(theLons, meridional_mean)\n",
    "ax2.set_title(\"Meridional Mean Precipitation\")\n",
    "ax2.set_xlabel(\"Longitude\")\n",
    "ax2.set_ylabel(\"Mean Precipitation (mm/hr)\")\n",
    "\n",
    "plt.tight_layout()\n",
    "plt.show()\n"
   ]
  },
  {
   "cell_type": "markdown",
   "id": "7659ab15-5f67-466e-a9c6-a1d391af5b92",
   "metadata": {},
   "source": [
    "#### Plot the data on a map\n",
    "\n",
    "Now that we have the needed grids, let's plot the data on a map using matplotlib and cartopy."
   ]
  },
  {
   "cell_type": "code",
   "execution_count": null,
   "id": "3c39f116-00f4-4dd7-8a6d-a4b4d7ee2db6",
   "metadata": {},
   "outputs": [],
   "source": [
    "# Set the figure size, projection, and extent\n",
    "fig = plt.figure(figsize=(21,7))\n",
    "ax = plt.axes(projection=ccrs.PlateCarree())\n",
    "ax.set_extent([-180,180,-60,60])  \n",
    "\n",
    "# Add coastlines and formatted gridlines\n",
    "ax.coastlines(resolution=\"110m\",linewidth=1)\n",
    "gl = ax.gridlines(crs=ccrs.PlateCarree(), draw_labels=True,\n",
    "                  linewidth=1, color='black', linestyle='--')\n",
    "gl.xlabels_top = False\n",
    "gl.ylabels_right = False\n",
    "gl.xlines = True\n",
    "gl.xlocator = mticker.FixedLocator([-180, -90, 0, 90, 180])\n",
    "gl.ylocator = mticker.FixedLocator([-60, -50, -25, 0, 25, 50, 60])\n",
    "gl.xformatter = LONGITUDE_FORMATTER\n",
    "gl.yformatter = LATITUDE_FORMATTER\n",
    "gl.xlabel_style = {'size':16, 'color':'black'}\n",
    "gl.ylabel_style = {'size':16, 'color':'black'}\n",
    "\n",
    "# Set contour levels and draw the plot\n",
    "clevs = np.arange(0,2,0.05)\n",
    "plt.contourf(x, y, precip, clevs, cmap=plt.cm.Blues)\n",
    "plt.title('GPM IMERG Monthly Mean Rain Rate for September 2009', size=24)\n",
    "cb = plt.colorbar(ax=ax, orientation=\"vertical\", pad=0.02, aspect=16, shrink=0.8)\n",
    "cb.set_label('mm / hr',size=20)\n",
    "cb.ax.tick_params(labelsize=16)"
   ]
  },
  {
   "cell_type": "markdown",
   "id": "de460c55-d317-47b4-98f1-7a387b6555ea",
   "metadata": {},
   "source": [
    "**NOTICE** that the data is in units of mm/hr. To get the total rainfall for the month, we need to convert this to mm by multiplying by the total hours in the month. For example, for September (30 days), we would calculate:"
   ]
  },
  {
   "cell_type": "code",
   "execution_count": null,
   "id": "bb8f487b-6b49-437d-8314-6d093015c649",
   "metadata": {},
   "outputs": [],
   "source": [
    "# Total hours \n",
    "total_hours = 30 * 24\n",
    "\n",
    "# Convert to total monthly rainfall (in mm)\n",
    "total_monthly_precip = masked_precip * total_hours"
   ]
  },
  {
   "cell_type": "markdown",
   "id": "4fe813a0-f57b-4021-8ded-a60f56152674",
   "metadata": {},
   "source": [
    "Now let's recalculate basic **monthly** statistics"
   ]
  },
  {
   "cell_type": "code",
   "execution_count": null,
   "id": "d1ba2b39-e75e-44ab-9c79-6930a8b07d35",
   "metadata": {},
   "outputs": [],
   "source": [
    "mean_monthly_precip = total_monthly_precip.mean()\n",
    "max_monthly_precip = total_monthly_precip.max()\n",
    "min_monthly_precip = total_monthly_precip.min()\n",
    "\n",
    "print(\"Mean Monthly Precipitation:\", mean_monthly_precip, \"mm\")\n",
    "print(\"Max Monthly Precipitation:\", max_monthly_precip, \"mm\")\n",
    "print(\"Min Monthly Precipitation:\", min_monthly_precip, \"mm\")\n"
   ]
  },
  {
   "cell_type": "markdown",
   "id": "7f2d1fe1-6bd1-4519-aa6e-a1097b339892",
   "metadata": {},
   "source": [
    "And then now let's recalculate the zonal and meridional means into monthly totals"
   ]
  },
  {
   "cell_type": "code",
   "execution_count": null,
   "id": "6f696986-21a3-4b3e-8dfc-e5d3dc592d97",
   "metadata": {},
   "outputs": [],
   "source": [
    "import matplotlib.pyplot as plt\n",
    "\n",
    "# Calculate zonal (latitude-wise) and meridional (longitude-wise) means\n",
    "zonal_mean = total_monthly_precip.mean(axis=1)  # Mean across longitudes for each latitude\n",
    "meridional_mean = total_monthly_precip.mean(axis=0)  # Mean across latitudes for each longitude\n",
    "\n",
    "# Plotting zonal and meridional means with actual lats and lons\n",
    "fig, (ax1, ax2) = plt.subplots(1, 2, figsize=(12, 5))\n",
    "\n",
    "# Zonal mean plot (latitude-wise mean)\n",
    "ax1.plot(zonal_mean, theLats)\n",
    "ax1.set_title(\"Zonal Mean Precipitation\")\n",
    "ax1.set_xlabel(\"Mean Precipitation\")\n",
    "ax1.set_ylabel(\"Latitude\")\n",
    "\n",
    "\n",
    "# Meridional mean plot (longitude-wise mean)\n",
    "ax2.plot(theLons, meridional_mean)\n",
    "ax2.set_title(\"Meridional Mean Precipitation\")\n",
    "ax2.set_xlabel(\"Longitude\")\n",
    "ax2.set_ylabel(\"Mean Precipitation\")\n",
    "\n",
    "plt.tight_layout()\n",
    "plt.show()\n"
   ]
  },
  {
   "cell_type": "code",
   "execution_count": null,
   "id": "6e118f0f-f065-4903-8c57-62867dcb377a",
   "metadata": {},
   "outputs": [],
   "source": [
    "# Set the figure size, projection, and extent\n",
    "fig = plt.figure(figsize=(21,7))\n",
    "ax = plt.axes(projection=ccrs.PlateCarree())\n",
    "ax.set_extent([-180,180,-60,60])  \n",
    "\n",
    "# Add coastlines and formatted gridlines\n",
    "ax.coastlines(resolution=\"110m\",linewidth=1)\n",
    "gl = ax.gridlines(crs=ccrs.PlateCarree(), draw_labels=True,\n",
    "                  linewidth=1, color='black', linestyle='--')\n",
    "gl.xlabels_top = False\n",
    "gl.ylabels_right = False\n",
    "gl.xlines = True\n",
    "gl.xlocator = mticker.FixedLocator([-180, -90, 0, 90, 180])\n",
    "gl.ylocator = mticker.FixedLocator([-60, -50, -25, 0, 25, 50, 60])\n",
    "gl.xformatter = LONGITUDE_FORMATTER\n",
    "gl.yformatter = LATITUDE_FORMATTER\n",
    "gl.xlabel_style = {'size':16, 'color':'black'}\n",
    "gl.ylabel_style = {'size':16, 'color':'black'}\n",
    "\n",
    "# Set contour levels and draw the plot\n",
    "clevs = np.arange(0,2000,40)\n",
    "plt.contourf(x, y, total_monthly_precip, clevs, cmap=plt.cm.Blues)\n",
    "plt.title('GPM IMERG Monthly Total Rain for September 2009', size=24)\n",
    "cb = plt.colorbar(ax=ax, orientation=\"vertical\", pad=0.02, aspect=16, shrink=0.8)\n",
    "cb.set_label('mm',size=20)\n",
    "cb.ax.tick_params(labelsize=16)"
   ]
  },
  {
   "cell_type": "markdown",
   "id": "49609186-e7c2-444b-80e8-49b3e039f3bc",
   "metadata": {},
   "source": [
    "To analyze precipitation data more closely over the Philippines, we can zoom in on that region by setting the map’s extent to the bounds covering the area. This way, we can focus on the spatial distribution of rainfall within the Philippines. Let's modify the `set_extent`."
   ]
  },
  {
   "cell_type": "code",
   "execution_count": null,
   "id": "5d4ea7c3-5eac-4363-aa5c-5d524f37d620",
   "metadata": {},
   "outputs": [],
   "source": [
    "# Set the figure size, projection, and extent\n",
    "fig = plt.figure(figsize=(10,10))\n",
    "ax = plt.axes(projection=ccrs.PlateCarree())\n",
    "ax.set_extent([115, 130, 5, 20], crs=ccrs.PlateCarree())\n",
    "\n",
    "# Add coastlines and formatted gridlines\n",
    "ax.coastlines(resolution=\"10m\",linewidth=1)\n",
    "gl = ax.gridlines(crs=ccrs.PlateCarree(), draw_labels=True,\n",
    "                  linewidth=1, color='black', linestyle='--')\n",
    "gl.xlabels_top = False\n",
    "gl.ylabels_right = False\n",
    "gl.xlines = True\n",
    "gl.xlocator = mticker.FixedLocator([-180, -90, 0, 90, 180])\n",
    "gl.ylocator = mticker.FixedLocator([-60, -50, -25, 0, 25, 50, 60])\n",
    "gl.xformatter = LONGITUDE_FORMATTER\n",
    "gl.yformatter = LATITUDE_FORMATTER\n",
    "gl.xlabel_style = {'size':16, 'color':'black'}\n",
    "gl.ylabel_style = {'size':16, 'color':'black'}\n",
    "\n",
    "# Set contour levels and draw the plot\n",
    "clevs = np.arange(0,2000,40)\n",
    "plt.contourf(x, y, total_monthly_precip, clevs, cmap=plt.cm.Blues)\n",
    "plt.title('GPM IMERG Monthly Total Rain for September 2009', size=24)\n",
    "cb = plt.colorbar(ax=ax, orientation=\"vertical\", pad=0.02, aspect=16, shrink=0.8)\n",
    "cb.set_label('mm',size=20)\n",
    "cb.ax.tick_params(labelsize=16)"
   ]
  },
  {
   "cell_type": "markdown",
   "id": "e8a4d843-e3b3-4f95-8d71-524d69a530f8",
   "metadata": {},
   "source": [
    "We can zoom in even further and adjust the colorbar."
   ]
  },
  {
   "cell_type": "code",
   "execution_count": null,
   "id": "9f01b68a-aa48-4569-9b64-ca99dc8b8497",
   "metadata": {},
   "outputs": [],
   "source": [
    "# Set the figure size, projection, and extent\n",
    "fig = plt.figure(figsize=(10,10))\n",
    "ax = plt.axes(projection=ccrs.PlateCarree())\n",
    "ax.set_extent([120, 122, 14, 16], crs=ccrs.PlateCarree())\n",
    "\n",
    "# Add coastlines and formatted gridlines\n",
    "ax.coastlines(resolution=\"10m\",linewidth=1)\n",
    "gl = ax.gridlines(crs=ccrs.PlateCarree(), draw_labels=True,\n",
    "                  linewidth=1, color='black', linestyle='--')\n",
    "gl.xlabels_top = False\n",
    "gl.ylabels_right = False\n",
    "gl.xlines = True\n",
    "gl.xlocator = mticker.FixedLocator([-180, -90, 0, 90, 180])\n",
    "gl.ylocator = mticker.FixedLocator([-60, -50, -25, 0, 25, 50, 60])\n",
    "gl.xformatter = LONGITUDE_FORMATTER\n",
    "gl.yformatter = LATITUDE_FORMATTER\n",
    "gl.xlabel_style = {'size':16, 'color':'black'}\n",
    "gl.ylabel_style = {'size':16, 'color':'black'}\n",
    "\n",
    "# Set contour levels and draw the plot\n",
    "clevs = np.arange(0,1000,40)\n",
    "plt.contourf(x, y, total_monthly_precip, clevs, cmap=plt.cm.Blues)\n",
    "plt.title('GPM IMERG Monthly Total Rain for September 2009', size=24)\n",
    "cb = plt.colorbar(ax=ax, orientation=\"vertical\", pad=0.02, aspect=16, shrink=0.8)\n",
    "cb.set_label('mm',size=20)\n",
    "cb.ax.tick_params(labelsize=16)"
   ]
  },
  {
   "cell_type": "markdown",
   "id": "57ab9c6d-c987-463d-8e03-a7a1318e5ccd",
   "metadata": {},
   "source": [
    "Notice how smooth the data is? It's because we're currently plotting using `contourf`. This is often used for plotting continuous data, like rainfall, because it smooths the data between defined levels, filling the contours with colors that represent different precipitation values. This technique is useful for highlighting broad patterns in data, making it easier to interpret areas with higher or lower values visually. However, `contourf` doesn’t directly show the gridded structure, which may be desirable for some analyses.\n",
    "\n",
    "`pcolormesh` is another option, especially useful when you want to emphasize the grid structure of the data. Unlike `contourf`, `pcolormesh` does not interpolate between values and instead displays each grid cell individually, revealing the data's actual resolution and granularity. Take note that `pcolormesh` requires different arguments, which are pre-filled below."
   ]
  },
  {
   "cell_type": "code",
   "execution_count": null,
   "id": "861d79ca-1b03-4118-9400-940197158ecd",
   "metadata": {},
   "outputs": [],
   "source": [
    "# Set the figure size, projection, and extent\n",
    "fig = plt.figure(figsize=(21, 7))\n",
    "ax = plt.axes(projection=ccrs.PlateCarree())\n",
    "ax.set_extent([120, 122, 14, 16], crs=ccrs.PlateCarree())\n",
    "\n",
    "# Add coastlines and formatted gridlines\n",
    "ax.coastlines(resolution=\"10m\", linewidth=1)\n",
    "gl = ax.gridlines(crs=ccrs.PlateCarree(), draw_labels=True,\n",
    "                  linewidth=1, color='black', linestyle='--')\n",
    "gl.xlabels_top = False\n",
    "gl.ylabels_right = False\n",
    "gl.xlines = True\n",
    "gl.xlocator = mticker.FixedLocator([-180, -90, 0, 90, 180])\n",
    "gl.ylocator = mticker.FixedLocator([-60, -50, -25, 0, 25, 50, 60])\n",
    "gl.xformatter = LONGITUDE_FORMATTER\n",
    "gl.yformatter = LATITUDE_FORMATTER\n",
    "gl.xlabel_style = {'size': 16, 'color': 'black'}\n",
    "gl.ylabel_style = {'size': 16, 'color': 'black'}\n",
    "\n",
    "# Plot using pcolormesh to show the gridded nature of the data\n",
    "plt.pcolormesh(x, y, total_monthly_precip, cmap=plt.cm.Blues, shading='auto', transform=ccrs.PlateCarree(), vmin=0, vmax=900)\n",
    "plt.title('GPM IMERG Monthly Total Rain for September 2009 (Grid View)', size=24)\n",
    "cb = plt.colorbar(ax=ax, orientation=\"vertical\", pad=0.02, aspect=16, shrink=0.8)\n",
    "cb.set_label('mm', size=20)\n",
    "cb.ax.tick_params(labelsize=16)\n",
    "\n",
    "plt.show()\n"
   ]
  },
  {
   "cell_type": "code",
   "execution_count": null,
   "id": "a21c0747-d033-4035-84e2-3bdde9345734",
   "metadata": {},
   "outputs": [],
   "source": []
  }
 ],
 "metadata": {
  "kernelspec": {
   "display_name": "Python (meteo203)",
   "language": "python",
   "name": "meteo203"
  },
  "language_info": {
   "codemirror_mode": {
    "name": "ipython",
    "version": 3
   },
   "file_extension": ".py",
   "mimetype": "text/x-python",
   "name": "python",
   "nbconvert_exporter": "python",
   "pygments_lexer": "ipython3",
   "version": "3.10.14"
  }
 },
 "nbformat": 4,
 "nbformat_minor": 5
}
