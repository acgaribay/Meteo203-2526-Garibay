{
 "cells": [
  {
   "cell_type": "code",
   "execution_count": null,
   "id": "bbcaaf00-af01-4d8f-927a-5ec6b38c51af",
   "metadata": {},
   "outputs": [],
   "source": [
    "import numpy as np\n",
    "import scipy.stats as stats\n",
    "\n",
    "# Use the synthetic temperature data\n",
    "synthetic_temperatures = [32.48, 29.93, 34.24, 38.77, 29.98, 29.98, 38.79, 34.79, 23.08, 34.97,\n",
    "                          23.08, 23.42, 26.69, 37.61, 35.29, 24.46, 35.61, 30.67, 31.53, 31.27]\n",
    "\n",
    "\n",
    "# Calculate mean\n",
    "mean_temp = np.mean(synthetic_temperatures)\n",
    "\n",
    "# Calculate median\n",
    "median_temp = np.median(synthetic_temperatures)\n",
    "\n",
    "# Calculate 25th and 75th percentiles\n",
    "percentile_25 = np.percentile(synthetic_temperatures, 25)\n",
    "percentile_75 = np.percentile(synthetic_temperatures, 75)\n",
    "\n",
    "# Calculate mode\n",
    "mode_temp = stats.mode(synthetic_temperatures, keepdims=False).mode\n",
    "\n",
    "# Calculate IQR (Interquartile Range)\n",
    "iqr_temp = percentile_75 - percentile_25\n",
    "\n",
    "# Calculate standard deviation\n",
    "std_dev_temp = np.std(synthetic_temperatures)\n",
    "\n",
    "# Display the results\n",
    "print(f\"Mean Temperature: {mean_temp:.2f}\")\n",
    "print(f\"Median Temperature: {median_temp:.2f}\")\n",
    "print(f\"25th Percentile (Q1): {percentile_25:.2f}\")\n",
    "print(f\"75th Percentile (Q3): {percentile_75:.2f}\")\n",
    "print(f\"IQR (Interquartile Range): {iqr_temp:.2f}\")\n",
    "print(f\"Mode Temperature: {mode_temp:.2f}\")\n",
    "print(f\"Standard Deviation: {std_dev_temp:.2f}\")\n"
   ]
  },
  {
   "cell_type": "code",
   "execution_count": null,
   "id": "170e0e65-3160-4b52-beda-82a3ad13c0aa",
   "metadata": {},
   "outputs": [],
   "source": [
    "import numpy as np\n",
    "\n",
    "# Custom function for stem-and-leaf plot\n",
    "def stem_and_leaf(data):\n",
    "    stems = {}\n",
    "    \n",
    "    for number in data:\n",
    "        stem = int(number) // 1\n",
    "        leaf = int(round((number - stem) * 10))\n",
    "        \n",
    "        if stem not in stems:\n",
    "            stems[stem] = []\n",
    "        stems[stem].append(leaf)\n",
    "    \n",
    "    print(\"Stem | Leaf\")\n",
    "    for stem, leaves in sorted(stems.items()):\n",
    "        leaves_str = ' '.join(map(str, sorted(leaves)))\n",
    "        print(f\"{stem:4} | {leaves_str}\")\n",
    "\n",
    "\n",
    "# Call the function to display the stem-and-leaf plot\n",
    "stem_and_leaf(synthetic_temperatures)\n"
   ]
  },
  {
   "cell_type": "code",
   "execution_count": null,
   "id": "1b0d309c-e8d8-40e6-8504-8a57a1e12e6f",
   "metadata": {},
   "outputs": [],
   "source": [
    "import matplotlib.pyplot as plt\n",
    "\n",
    "# Plotting a boxplot\n",
    "plt.figure(figsize=(6, 4))\n",
    "plt.boxplot(synthetic_temperatures, vert=False, patch_artist=True, boxprops=dict(facecolor='lightblue'))\n",
    "plt.title('Boxplot of Synthetic Temperatures')\n",
    "plt.xlabel('Temperature (°C)')\n",
    "plt.show()\n"
   ]
  },
  {
   "cell_type": "code",
   "execution_count": null,
   "id": "c0f5e46b-ffd2-40be-bed0-636132feecb4",
   "metadata": {},
   "outputs": [],
   "source": [
    "# Plotting a histogram\n",
    "plt.figure(figsize=(6, 4))\n",
    "plt.hist(synthetic_temperatures, bins=5, color='lightgreen', edgecolor='black')\n",
    "plt.title('Histogram of Synthetic Temperatures')\n",
    "plt.xlabel('Temperature (°C)')\n",
    "plt.ylabel('Frequency')\n",
    "plt.show()\n"
   ]
  },
  {
   "cell_type": "code",
   "execution_count": null,
   "id": "12195dde-f275-43d2-9acd-57d461bc7f39",
   "metadata": {},
   "outputs": [],
   "source": []
  }
 ],
 "metadata": {
  "kernelspec": {
   "display_name": "Python (meteo203)",
   "language": "python",
   "name": "meteo203"
  },
  "language_info": {
   "codemirror_mode": {
    "name": "ipython",
    "version": 3
   },
   "file_extension": ".py",
   "mimetype": "text/x-python",
   "name": "python",
   "nbconvert_exporter": "python",
   "pygments_lexer": "ipython3",
   "version": "3.10.14"
  }
 },
 "nbformat": 4,
 "nbformat_minor": 5
}
