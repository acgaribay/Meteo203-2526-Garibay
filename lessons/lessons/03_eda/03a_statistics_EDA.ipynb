{
 "cells": [
  {
   "cell_type": "code",
   "execution_count": null,
   "id": "198b6366-539f-40fe-b94e-c15a9359b1e8",
   "metadata": {},
   "outputs": [],
   "source": [
    "# Import necessary libraries\n",
    "import pandas as pd\n",
    "import matplotlib.pyplot as plt\n",
    "import seaborn as sns\n",
    "\n",
    "# Read the dataset\n",
    "file_path = '../../data/2009_SCIENCE_GARDEN.csv'\n",
    "df = pd.read_csv(file_path)"
   ]
  },
  {
   "cell_type": "code",
   "execution_count": null,
   "id": "9f8eeb3e-56b4-45cb-88b3-d798971459b1",
   "metadata": {},
   "outputs": [],
   "source": [
    "# Display the first few rows of the dataset\n",
    "df.head()\n"
   ]
  },
  {
   "cell_type": "code",
   "execution_count": null,
   "id": "83e47169-745b-401b-abf9-ec2356a8479f",
   "metadata": {},
   "outputs": [],
   "source": [
    "# Convert 'DATE' column to datetime for easier time series analysis\n",
    "df['DATE'] = pd.to_datetime(df['DATE'])"
   ]
  },
  {
   "cell_type": "code",
   "execution_count": null,
   "id": "e24cfb0d-3dad-46e3-a429-8a6bec66abe9",
   "metadata": {},
   "outputs": [],
   "source": [
    "# Summary of the dataset (basic statistics)\n",
    "df.describe()"
   ]
  },
  {
   "cell_type": "code",
   "execution_count": null,
   "id": "d25bb12c-a05c-4a9e-929e-b6f834cfb5ff",
   "metadata": {},
   "outputs": [],
   "source": [
    "# Visualize the data\n",
    "# Plot daily rainfall\n",
    "plt.figure(figsize=(10, 5))\n",
    "plt.plot(df['DATE'], df['DAILY RAINFALL'], color='blue', label='Daily Rainfall')\n",
    "plt.title('Daily Rainfall in 2009')\n",
    "plt.xlabel('Date')\n",
    "plt.ylabel('Rainfall (mm)')\n",
    "plt.legend()\n",
    "plt.show()"
   ]
  },
  {
   "cell_type": "code",
   "execution_count": null,
   "id": "6d99f993-2cd4-4bb0-981a-17bf36ed7d25",
   "metadata": {},
   "outputs": [],
   "source": [
    "# Visualize the data\n",
    "# Plot daily rainfall\n",
    "plt.figure(figsize=(10, 5))\n",
    "plt.plot(df['DATE'], df['DAILY RAINFALL'], color='blue', label='Daily Rainfall')\n",
    "plt.axvline(pd.Timestamp('2009-09-27'), color='red', linestyle='--', label='Tropical Cyclone Ondoy')\n",
    "plt.title('Daily Rainfall in 2009')\n",
    "plt.xlabel('Date')\n",
    "plt.ylabel('Rainfall (mm)')\n",
    "plt.legend()\n",
    "plt.show()"
   ]
  },
  {
   "cell_type": "code",
   "execution_count": null,
   "id": "71855084-0d6c-4e84-a042-50d3d0895c6c",
   "metadata": {},
   "outputs": [],
   "source": [
    "# 1. Histogram of Daily Rainfall\n",
    "plt.figure(figsize=(10, 5))\n",
    "sns.histplot(df['DAILY RAINFALL'], bins=30, kde=True, color='blue')\n",
    "plt.title('Histogram of Daily Rainfall in 2009')\n",
    "plt.xlabel('Daily Rainfall (mm)')\n",
    "plt.ylabel('Frequency')\n",
    "plt.show()"
   ]
  },
  {
   "cell_type": "code",
   "execution_count": null,
   "id": "4fef0703-391d-4873-8627-8ab092e2b6b2",
   "metadata": {},
   "outputs": [],
   "source": [
    "# 2. Column chart that accumulates rainfall per month\n",
    "# Add a 'Month' column for grouping\n",
    "df['Month'] = df['DATE'].dt.month\n",
    "monthly_rainfall = df.groupby('Month')['DAILY RAINFALL'].sum()\n",
    "\n",
    "plt.figure(figsize=(10, 5))\n",
    "monthly_rainfall.plot(kind='bar', color='green')\n",
    "plt.title('Total Rainfall per Month in 2009')\n",
    "plt.xlabel('Month')\n",
    "plt.ylabel('Total Rainfall (mm)')\n",
    "plt.xticks(rotation=0)\n",
    "plt.show()"
   ]
  },
  {
   "cell_type": "code",
   "execution_count": null,
   "id": "ec546aed-fd41-45e3-b290-7a86dbd0d901",
   "metadata": {},
   "outputs": [],
   "source": [
    "# 3. Column chart that accumulates rainfall per season\n",
    "# Define seasons based on given criteria\n",
    "def get_season(date):\n",
    "    month = date.month\n",
    "    if month in [6, 7, 8, 9]:\n",
    "        return 'Wet Season (JJAS)'\n",
    "    elif month in [10, 11, 12, 1, 2]:\n",
    "        return 'Cool Dry Seasos (ONDF)'\n",
    "    else:\n",
    "        return 'Hot Dry Season (MAM)'\n",
    "\n",
    "df['Season'] = df['DATE'].apply(get_season)\n",
    "seasonal_rainfall = df.groupby('Season')['DAILY RAINFALL'].sum()\n",
    "\n",
    "plt.figure(figsize=(10, 5))\n",
    "seasonal_rainfall.plot(kind='bar', color='purple')\n",
    "plt.title('Total Rainfall per Season in 2009')\n",
    "plt.xlabel('Season')\n",
    "plt.ylabel('Total Rainfall (mm)')\n",
    "plt.xticks(rotation=0)\n",
    "plt.show()"
   ]
  },
  {
   "cell_type": "code",
   "execution_count": null,
   "id": "71371824-b0c7-4ba7-81bc-e074ba4753bc",
   "metadata": {},
   "outputs": [],
   "source": [
    "# Monthly boxplot for Mean Temperature\n",
    "plt.figure(figsize=(10, 6))\n",
    "sns.boxplot(x=df['Month'], y=df['TEMP MEAN'])\n",
    "plt.title('Monthly Boxplots for Mean Temperature in 2009')\n",
    "plt.xlabel('Month')\n",
    "plt.ylabel('Mean Temperature (°C)')\n",
    "plt.show()\n"
   ]
  },
  {
   "cell_type": "code",
   "execution_count": null,
   "id": "2e3510d1-a9d7-41b2-bc41-0bbad0a76aed",
   "metadata": {},
   "outputs": [],
   "source": []
  }
 ],
 "metadata": {
  "kernelspec": {
   "display_name": "Python (meteo203)",
   "language": "python",
   "name": "meteo203"
  },
  "language_info": {
   "codemirror_mode": {
    "name": "ipython",
    "version": 3
   },
   "file_extension": ".py",
   "mimetype": "text/x-python",
   "name": "python",
   "nbconvert_exporter": "python",
   "pygments_lexer": "ipython3",
   "version": "3.10.14"
  }
 },
 "nbformat": 4,
 "nbformat_minor": 5
}
