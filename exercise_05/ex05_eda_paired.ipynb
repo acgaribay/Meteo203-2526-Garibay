{
 "cells": [
  {
   "cell_type": "markdown",
   "id": "ec0b7331-6781-4e7a-a2a4-83d747645ece",
   "metadata": {},
   "source": [
    "# Exercise 5. Exploratory Data Analysis (EDA) for paired data\n",
    "\n",
    "## Task 1. Loading the dataset.\n",
    "- Download `ibtracs.WP.list.v04r01.csv` from https://www.ncei.noaa.gov/data/international-best-track-archive-for-climate-stewardship-ibtracs/v04r01/access/csv/\n",
    "- Store it in any folder, and then specify the path to that file in the `file_path` variable below.\n",
    "- Load the full dataset."
   ]
  },
  {
   "cell_type": "code",
   "execution_count": null,
   "id": "102ce344-f95d-41ae-817f-6aee27e8e542",
   "metadata": {},
   "outputs": [],
   "source": [
    "# Imports\n",
    "import matplotlib.pyplot as plt\n",
    "import pandas as pd\n",
    "import seaborn as sns\n",
    "from scipy.stats import pearsonr\n",
    "from scipy.stats import spearmanr\n",
    "import numpy as np\n",
    "import cartopy.crs as ccrs\n",
    "import cartopy.feature as cfeature"
   ]
  },
  {
   "cell_type": "code",
   "execution_count": null,
   "id": "00383424-1c69-45f2-9fa7-ca63f21b57dc",
   "metadata": {},
   "outputs": [],
   "source": [
    "file_path = '../../data/ibtracs.WP.list.v04r01.csv'"
   ]
  },
  {
   "cell_type": "code",
   "execution_count": null,
   "id": "a6ccf6bb-4309-4595-89f8-f670d5bd15a1",
   "metadata": {},
   "outputs": [],
   "source": [
    "# Define columns to load\n",
    "usecols = [\n",
    "    'SID',        # Storm ID\n",
    "    'SEASON',     # Year\n",
    "    'LAT',        # Latitude\n",
    "    'LON',        # Longitude\n",
    "    'WMO_WIND',   # Wind speed (knots)\n",
    "    'WMO_PRES',   # Central pressure (hPa)\n",
    "    'STORM_SPEED',# Forward speed (km/h)\n",
    "    'STORM_DIR',   # Forward direction (degrees)\n",
    "    'ISO_TIME'\n",
    "]\n",
    "\n",
    "# df = pd.read_csv(file_path, low_memory=False)\n",
    "df = pd.read_csv(\n",
    "    file_path,\n",
    "    skiprows=[1],        # Skip row 2 (units row)\n",
    "    usecols=usecols,\n",
    "    low_memory=False\n",
    ")\n",
    "\n",
    "# List of columns to convert to float\n",
    "num_cols = ['WMO_WIND', 'WMO_PRES', 'STORM_SPEED', 'STORM_DIR']\n",
    "\n",
    "# Convert to float using pd.to_numeric, forcing errors to NaN\n",
    "for col in num_cols:\n",
    "    df[col] = pd.to_numeric(df[col], errors='coerce')\n",
    "\n",
    "\n",
    "# Display basic info\n",
    "df.info()"
   ]
  },
  {
   "cell_type": "markdown",
   "id": "6126c4e6-028f-4803-a92f-296b327ceb1c",
   "metadata": {},
   "source": [
    "#### Questions\n",
    "1. Are there missing values in the dataset? Which columns contain these missing values?\n",
    "2. Based on the first few rows, what variables are available in this dataset, and what types of data do they contain?\n",
    "\n",
    "Some useful commands\n",
    "- `df.head()`\n",
    "- `df.isnull()`"
   ]
  },
  {
   "cell_type": "markdown",
   "id": "6a3d57d7-d3fb-460e-b2d0-f04370382239",
   "metadata": {},
   "source": []
  },
  {
   "cell_type": "markdown",
   "id": "423bc219-8d10-4f27-ac10-96728765b026",
   "metadata": {},
   "source": [
    "---\n",
    "## Task 2: Filter and select data. \n",
    "While the IBTrACS dataset is complete, reliable wind data only exists post the satellite era (1980 onwards). Let's filter the dataset according to the column `SEASON`"
   ]
  },
  {
   "cell_type": "code",
   "execution_count": null,
   "id": "7d153938-bf36-438b-8a8f-0059f6dd501b",
   "metadata": {},
   "outputs": [],
   "source": [
    "df['SEASON'] = df['SEASON'].astype(int)\n",
    "df = df[(df['SEASON'] >= 1980) & (df['SEASON'] <= 2024)]\n",
    "\n",
    "# Check shape and basic info\n",
    "print(\"Rows:\", df.shape[0], \"| Columns:\", df.shape[1])\n",
    "df.info()\n"
   ]
  },
  {
   "cell_type": "markdown",
   "id": "66a30e3f-de9a-44d2-b638-753c943df146",
   "metadata": {},
   "source": [
    "#### Questions\n",
    "1. After printing `df.info()`, ompare the Non-Null counts between all the columns before and after filtering. What do you notice?"
   ]
  },
  {
   "cell_type": "markdown",
   "id": "2156f7e4-cad3-4502-818c-63563e6dbbce",
   "metadata": {},
   "source": [
    "---\n",
    "## Task 3: Summary Statistics\n",
    "Calculate and interpret the summary statistics (mean, median, min, max, standard deviation) for each numeric column in the dataset. Remember, you can subset a specific column using the following syntax\n",
    "\n",
    "```python\n",
    "subset = df['COLUMN NAME HERE']\n",
    "```\n",
    "\n",
    "When you have your subset, you can then calculate the different summar statistics such as `mean`,  `median`, etc. \n",
    "\n",
    "For example \n",
    "```python\n",
    "subset_mean = subset.mean()\n",
    "```\n",
    "If you want to operate from the df directly,\n",
    "\n",
    "```python\n",
    "subset_mean = df['COLUMN NAME HERE'].mean()\n",
    "```\n",
    "\n",
    "\n",
    "You can also choose to print out the summary statistics using `df.describe()`. The [pandas documentation](https://pandas.pydata.org/docs/reference/api/pandas.DataFrame.describe.html) lists other summary statistics that might be useful here."
   ]
  },
  {
   "cell_type": "code",
   "execution_count": null,
   "id": "6666ddfe-139d-42ed-a004-cced19c29cc2",
   "metadata": {},
   "outputs": [],
   "source": []
  },
  {
   "cell_type": "markdown",
   "id": "2c46d672-ecb9-42c0-9b65-2061a77fa7b3",
   "metadata": {},
   "source": [
    "### Questions:\n",
    "\n",
    "1. Compare the mean and median values for `WMO_WIND`, `WMO_PRES`, `STORM_SPEED`, and `STORM_DIR`.\n",
    "    - Are the mean and median close together, or far apart?\n",
    "    - What might that tell you about the shape or skewness of each distribution?\n",
    "2. Take a look at the standard deviation for the different variables.\n",
    "    - Which variable has the largest standard deviation?\n",
    "    - What does this suggest about how that variable behaves across storms?"
   ]
  },
  {
   "cell_type": "markdown",
   "id": "43500022-8b40-4757-aced-e79af834ed6b",
   "metadata": {},
   "source": []
  },
  {
   "cell_type": "markdown",
   "id": "bd0ca72b-9537-41fa-bd1d-07e5a1ed0f5d",
   "metadata": {},
   "source": [
    "---\n",
    "## Task 4: Paired EDA: Scatterplots\n",
    "In this section, you'll explore how two storm-related variables relate to each other using scatterplots and correlation.\n",
    "\n",
    "1. Copy or duplicate the cell below. Use as many cells as you can.\n",
    "2. Change x_var and y_var to any two numeric columns (e.g., WMO_WIND, WMO_PRES, STORM_SPEED, STORM_DIR, LAT, LON).\n",
    "3. Run the cell to generate a scatterplot and print the Pearson correlation (r) and p-value.\n",
    "4. Try different variable combinations. Look for patterns, clusters, and outliers.\n",
    "\n",
    "For this step, you should produce a minimum of two scatterplots."
   ]
  },
  {
   "cell_type": "code",
   "execution_count": null,
   "id": "8a6f21bc-c11d-461b-88f4-960fd859407f",
   "metadata": {},
   "outputs": [],
   "source": [
    "x_var = \n",
    "y_var = \n",
    "\n",
    "subset = df[[x_var, y_var]].dropna()\n",
    "\n",
    "r_value, p_value = pearsonr(subset[x_var], subset[y_var])\n",
    "\n",
    "plt.figure(figsize=(6, 4))\n",
    "sns.scatterplot(data=subset, x=x_var, y=y_var, alpha=0.6, s=5)\n",
    "\n",
    "plt.title(f'{y_var} vs {x_var}\\nPearson r = {r_value:.3f}, p = {p_value:.3g}')\n",
    "plt.xlabel(x_var)\n",
    "plt.ylabel(y_var)\n",
    "plt.grid(True)\n",
    "plt.tight_layout()\n",
    "plt.show()"
   ]
  },
  {
   "cell_type": "markdown",
   "id": "c038075c-2bb5-472a-b763-8119b0f3c071",
   "metadata": {},
   "source": [
    "### Questions\n",
    "1. From your selected pairs, which variable pairs showed the strongest correlation? Did this match what you expected based on storm behavior?\n",
    "2. Did any variable pairs surprise you with their correlation (or lack of it)?\n",
    "3. Did you observe any strong-looking relationships that weren't linear?\n",
    "4. For variable pairs like LAT and LON, the p-value is sometimes 0 even if they don't look related. Why might this happen? What role does the sample size play in producing very small p-values?\n",
    "5. Are there any variables you think are related but not captured well by Pearson’s r? Why might that be?"
   ]
  },
  {
   "cell_type": "markdown",
   "id": "9140521d-e117-4ec4-a9ca-a18915771e67",
   "metadata": {},
   "source": []
  },
  {
   "cell_type": "markdown",
   "id": "710b196c-f885-4b69-b327-0dc4b1a0132d",
   "metadata": {},
   "source": [
    "---\n",
    "## Task 5: Paired EDA: Correlation Matrix\n",
    "In this section, you'll generate a correlation matrix to explore how several storm-related variables relate to each other at once.\n",
    "\n",
    "1. Select a group of numeric columns you'd like to compare.\n",
    "2. Drop rows with missing values.\n",
    "3. Use pandas to calculate the correlation matrix (`.corr()`).\n",
    "4. Use `seaborn.heatmap()` to visualize the result."
   ]
  },
  {
   "cell_type": "code",
   "execution_count": null,
   "id": "cb8a54b1-eb3f-4520-87ad-2ac7785e2670",
   "metadata": {},
   "outputs": [],
   "source": [
    "# Select numeric variables of interest\n",
    "vars_to_compare = []\n",
    "\n",
    "# Drop rows with missing values in these columns\n",
    "df_corr = df[vars_to_compare].dropna()\n",
    "\n",
    "# Compute correlation matrix\n",
    "corr_matrix = df_corr.corr()\n",
    "\n",
    "# Plot heatmap\n",
    "plt.figure(figsize=(6, 5))\n",
    "sns.heatmap(corr_matrix, annot=True, cmap='coolwarm', center=0, fmt=\".2f\")\n",
    "plt.title(\"Correlation Matrix (Pearson r)\")\n",
    "plt.tight_layout()\n",
    "plt.show()"
   ]
  },
  {
   "cell_type": "markdown",
   "id": "180f30e2-8c0a-4958-af7d-49af6935fa8b",
   "metadata": {},
   "source": [
    "### Questions:\n",
    "1. Which variable pairs have the strongest positive or negative correlations?\n",
    "2. Some variables show weak or near-zero correlation.\n",
    "   - Are there any surprising cases where you expected a stronger relationship?\n",
    "   - Could this be due to non-linear behavior or noise?\n",
    "3. The correlation between `STORM_SPEED` and `STORM_DIR` and between `LAT` and `STORM_DIR` is quite high. Why might these appear correlated, even though direction is circular? Can you describe the scatterplots relateing `STORM_DIR` with other variables? Can we trust this correlation value as-is?"
   ]
  },
  {
   "cell_type": "markdown",
   "id": "ee2fef74-bbe2-4278-8a5c-a24468c6f506",
   "metadata": {},
   "source": []
  },
  {
   "cell_type": "markdown",
   "id": "bb4217d3-7802-4ed2-abdc-267526e0c149",
   "metadata": {},
   "source": [
    "---\n",
    "## Task 6a: Pearson vs Spearman (Scatterplots)\n",
    "In this task, you’ll take a closer look at some variable pairs where the Pearson correlation coefficient is low, even though there seems to be a visible relationship in the scatterplot. Spearman’s rank correlation coefficient (ρ) measures the strength and direction of a monotonic relationship between two variables.\n",
    "\n",
    "This often happens when the relationship is:\n",
    "- Nonlinear (e.g., curved or dome-shaped)\n",
    "- Monotonic but not linear (one direction but uneven)\n",
    "- Affected by outliers or skewed values\n",
    "- Or, in the case of `STORM_DIR`, when a variable is circular\n",
    "\n",
    "\n",
    "When to use Spearman's rank correlation:\n",
    "- When the scatterplot shows a curved trend (e.g., dome or S-shape)\n",
    "- When the data contains outliers\n",
    "- When the relationship is not linear, but still has an overall direction\n",
    "\n",
    "### Instructions:\n",
    "1. Revisit the correlation matrix from Task 5.\n",
    "2. Look for variable pairs with low or near-zero r-values (e.g., r < 0.2).\n",
    "3. Pick one of them to explore more deeply.\n",
    "4. Use the provided script (scatterplot + Pearson + Spearman) to visualize the relationship.\n",
    "5. Start by exploring the following pair: `LAT` vs `WMO_WIND`\n",
    "6. After this, try another variable pair of your choice from the matrix."
   ]
  },
  {
   "cell_type": "code",
   "execution_count": null,
   "id": "1d590be4-cb17-4950-b55c-de7c52f8adf8",
   "metadata": {},
   "outputs": [],
   "source": [
    "x_var = \n",
    "y_var = \n",
    "\n",
    "# Drop rows with missing values\n",
    "subset = df[[x_var, y_var]].dropna()\n",
    "\n",
    "# Calculate correlations\n",
    "r_pearson, p_pearson = pearsonr(subset[x_var], subset[y_var])\n",
    "rho_spearman, p_spearman = spearmanr(subset[x_var], subset[y_var])\n",
    "\n",
    "# Scatterplot\n",
    "plt.figure(figsize=(6, 4))\n",
    "sns.scatterplot(data=subset, x=x_var, y=y_var, alpha=0.6, s=5)\n",
    "\n",
    "# Show both correlation results in the title\n",
    "plt.title(f\"{y_var} vs {x_var}\\n\"\n",
    "          f\"Pearson r = {r_pearson:.3f}, p = {p_pearson:.1e} | \"\n",
    "          f\"Spearman ρ = {rho_spearman:.3f}, p = {p_spearman:.1e}\")\n",
    "plt.xlabel(x_var)\n",
    "plt.ylabel(y_var)\n",
    "plt.grid(True)\n",
    "plt.tight_layout()\n",
    "plt.show()"
   ]
  },
  {
   "cell_type": "markdown",
   "id": "4544ff42-724c-443a-ab42-1a296d1ccb65",
   "metadata": {},
   "source": [
    "### Questions\n",
    "1. Do you see a visible relationship in the scatterplot, even if Pearson’s r is low? What shape or structure do you observe?\n",
    "2. How does Spearman’s ρ compare to Pearson’s r? In what situations is Spearman more useful than Pearson?\n",
    "3. Based on what you saw, should we rely only on the correlation matrix when analyzing data? Why or why not?\n",
    "4. Can you think of any physical or meteorological reason why the pattern appears curved or dome-shaped?"
   ]
  },
  {
   "cell_type": "markdown",
   "id": "a045234e-debe-4b3e-ba18-243036a4dc75",
   "metadata": {},
   "source": [
    "---\n",
    "## Task 6b: Pearson vs Spearman Heatmaps\n",
    "\n",
    "In this section, you’ll create a correlation matrix using Spearman’s ρ instead of Pearson’s r. This can help you detect monotonic relationships that may not be linear.\n",
    "\n",
    "- Use the same variables you explored in Task 5.\n",
    "- Calculate the Spearman correlation matrix using `.corr(method='spearman')`.\n",
    "- Visualize the result using `seaborn.heatmap()`."
   ]
  },
  {
   "cell_type": "code",
   "execution_count": null,
   "id": "752794da-b736-4eae-aa29-32c9700bbd11",
   "metadata": {
    "jp-MarkdownHeadingCollapsed": true
   },
   "outputs": [],
   "source": [
    "# Columns to compare (adjust as needed)\n",
    "vars_to_compare = []\n",
    "\n",
    "# Drop rows with missing data\n",
    "df_corr = df[vars_to_compare].dropna()\n",
    "\n",
    "# Compute correlation matrices\n",
    "pearson_corr = df_corr.corr(method='pearson')\n",
    "spearman_corr = df_corr.corr(method='spearman')\n",
    "\n",
    "# Set up subplot\n",
    "fig, axes = plt.subplots(1, 2, figsize=(12, 5), sharey=True)\n",
    "\n",
    "# Pearson heatmap\n",
    "sns.heatmap(pearson_corr, annot=True, cmap='coolwarm', center=0, fmt=\".2f\", ax=axes[0])\n",
    "axes[0].set_title(\"Pearson Correlation (r)\")\n",
    "\n",
    "# Spearman heatmap\n",
    "sns.heatmap(spearman_corr, annot=True, cmap='coolwarm', center=0, fmt=\".2f\", ax=axes[1])\n",
    "axes[1].set_title(\"Spearman Correlation (ρ)\")\n",
    "\n",
    "plt.tight_layout()\n",
    "plt.show()"
   ]
  },
  {
   "cell_type": "code",
   "execution_count": null,
   "id": "8997d74e-78f6-4783-8cd2-66353e86257d",
   "metadata": {},
   "outputs": [],
   "source": []
  },
  {
   "cell_type": "markdown",
   "id": "405ce39a-b0c2-4731-b5a9-8158a3fd1b68",
   "metadata": {},
   "source": [
    "### Questions\n",
    "1. Which variable pairs have noticeably different values between Pearson and Spearman?\n",
    "    - Which correlation is stronger? Why might that be?\n",
    "2. Pick one pair where the values differ significantly. What does the scatterplot look like? Does it seem linear, nonlinear, or ranked but curved?\n",
    "3. When should we prefer Spearman’s correlation over Pearson’s in weather or climate data? What types of variables (e.g., direction, skewed values) are better handled by Spearman?"
   ]
  },
  {
   "cell_type": "markdown",
   "id": "d1e7b8e7-e071-4dd1-aa92-e66555654f21",
   "metadata": {},
   "source": [
    "---\n",
    "## Task 7: Exploring Circular Data (Storm Direction)\n",
    "\n",
    "In this task, you’ll explore how to visualize and interpret circular variables, like STORM_DIR, which represents storm movement direction in degrees (0–360).\n",
    "\n",
    "Because direction wraps around (0° = 360°), it can’t be meaningfully analyzed using traditional linear statistics or plots.\n",
    "\n",
    "Use the code below to plot a circular histogram."
   ]
  },
  {
   "cell_type": "code",
   "execution_count": null,
   "id": "7b5ce370-dc26-4160-89f3-8030426eb6aa",
   "metadata": {},
   "outputs": [],
   "source": [
    "# Drop NaN and convert degrees to radians\n",
    "radians = np.deg2rad(df['STORM_DIR'].dropna())\n",
    "\n",
    "# Plot polar histogram\n",
    "plt.figure(figsize=(6, 6))\n",
    "ax = plt.subplot(111, polar=True)\n",
    "ax.hist(radians, bins=36, color='skyblue', edgecolor='black')\n",
    "\n",
    "ax.set_theta_zero_location(\"N\")  # Set 0° at the top\n",
    "ax.set_theta_direction(-1)       # Clockwise\n",
    "ax.set_title(\"Storm Direction Distribution\")\n",
    "plt.show()"
   ]
  },
  {
   "cell_type": "markdown",
   "id": "85adb941-0c2d-4fd7-ab02-a76ae29a6896",
   "metadata": {},
   "source": [
    "### Questions\n",
    "1. What directions do most storms tend to move toward? Are they clustered in one direction or spread out?\n",
    "2. Is the distribution symmetric? Are there dominant storm paths? Do any compass directions have very few storms?\n",
    "3. What might explain this pattern?"
   ]
  },
  {
   "cell_type": "markdown",
   "id": "036fb984-00d0-4d40-a326-7f2dd9f8cbf1",
   "metadata": {},
   "source": []
  },
  {
   "cell_type": "markdown",
   "id": "8b6fd516-cd36-4825-a6e4-6948cf1b28b0",
   "metadata": {},
   "source": [
    "---\n",
    "## Task 8: Reexpressing Circular Data\n",
    "\n",
    "In this final task, you’ll reflect on what happens when we re-express circular variables (like `STORM_DIR`) into linear vector components (`DIR_U` and `DIR_V`), and how this transformation helps us better understand storm behavior.\n",
    "\n",
    "This allows us to:\n",
    "- Use these in scatterplots and correlation\n",
    "- Make more meaningful comparisons with other linear variables like `LAT`, `STORM_SPEED`, or `WMO_WIND`\n",
    "\n",
    "Run the code below to convert STORM_DIR to radians and compute DIR_U and DIR_V:"
   ]
  },
  {
   "cell_type": "code",
   "execution_count": null,
   "id": "d504d366-ade6-4840-a1b6-c065af458af2",
   "metadata": {},
   "outputs": [],
   "source": [
    "# Drop NaNs and convert to radians\n",
    "df['DIR_rad'] = np.deg2rad(df['STORM_DIR'])\n",
    "\n",
    "# Re-express direction as unit vectors\n",
    "df['DIR_U'] = np.cos(df['DIR_rad'])  # East-West component\n",
    "df['DIR_V'] = np.sin(df['DIR_rad'])  # North-South component\n"
   ]
  },
  {
   "cell_type": "markdown",
   "id": "f212ef8b-f27f-43c2-8de8-571395a32ec4",
   "metadata": {},
   "source": [
    "Copy the cells in Task 6b where we plotted the correlation heatmaps. Update this to include `DIR_U` and `DIR_V`.\n",
    "\n",
    "From the correlation heatmaps, choose one variables with moderate Pearson or Spearman to compare with `DIR_U` and one with `DIR_V`, and create scatterplots. You can copy the cells in 6a. "
   ]
  },
  {
   "cell_type": "code",
   "execution_count": null,
   "id": "9240f7f4-ca91-41a0-9788-bd69c37185d5",
   "metadata": {},
   "outputs": [],
   "source": []
  },
  {
   "cell_type": "code",
   "execution_count": null,
   "id": "263cef87-6e8c-4b2c-9af2-eaa87d59282a",
   "metadata": {},
   "outputs": [],
   "source": []
  },
  {
   "cell_type": "markdown",
   "id": "187b6aa4-8dd3-40b2-93ef-3a7624ae9f1e",
   "metadata": {},
   "source": [
    "### Questions\n",
    "1. How do the new variables `DIR_U` and `DIR_V` behave in the correlation matrix? Do they show stronger or weaker relationships than `STORM_DIR`?\n",
    "2. For your selected scatterplots, do Pearson and Spearman correlation agree?\n",
    "3. Which component (U or V) seems more related to the other storm characteristics (e.g., speed, latitude)?"
   ]
  },
  {
   "cell_type": "markdown",
   "id": "b3f37530-dd08-41d8-be64-7766067d31ec",
   "metadata": {},
   "source": []
  },
  {
   "cell_type": "markdown",
   "id": "1015f39a-6e02-4a86-9241-2eeb8bce7a49",
   "metadata": {},
   "source": [
    "---\n",
    "## Task 9: Plotting on a map. \n",
    "\n",
    "In this final task, you’ll plot all the IBTrACS storm data points on a map using `LONGITUDE` and `LATITUDE`. You’ll use color to represent storm wind speed (`WMO_WIND`) and movement speed (`STORM_SPEED`) so that you can see where the strongest and fastest storms tend to occur."
   ]
  },
  {
   "cell_type": "code",
   "execution_count": null,
   "id": "264204cb-90eb-441e-8d3e-4cf970f10b1c",
   "metadata": {},
   "outputs": [],
   "source": [
    "\n",
    "# Drop missing data\n",
    "df_map = df[['LON', 'LAT', 'WMO_WIND']].dropna()\n",
    "\n",
    "# Set up the map\n",
    "fig = plt.figure(figsize=(10, 6))\n",
    "ax = plt.axes(projection=ccrs.PlateCarree())\n",
    "\n",
    "# Set extent to West Pacific: [lon_min, lon_max, lat_min, lat_max]\n",
    "ax.set_extent([100, 180, 0, 80], crs=ccrs.PlateCarree())\n",
    "\n",
    "# Add base features\n",
    "ax.coastlines()\n",
    "ax.add_feature(cfeature.BORDERS, linewidth=0.5)\n",
    "ax.add_feature(cfeature.LAND, facecolor='lightgray')\n",
    "\n",
    "# Plot storm points\n",
    "sc = ax.scatter(\n",
    "    df_map['LON'], df_map['LAT'],\n",
    "    c=df_map['WMO_WIND'],\n",
    "    cmap='Reds',\n",
    "    s=2,\n",
    "    alpha=0.5,\n",
    "    transform=ccrs.PlateCarree()\n",
    ")\n",
    "\n",
    "# Add colorbar\n",
    "cbar = plt.colorbar(sc, ax=ax, orientation='vertical', label='WMO_WIND (knots)')\n",
    "ax.set_title(\"West Pacific Tropical Cyclone Points Colored by Wind Speed\")\n",
    "plt.tight_layout()\n",
    "plt.show()\n"
   ]
  },
  {
   "cell_type": "markdown",
   "id": "133e087a-9713-47f5-a65b-77af8283e19b",
   "metadata": {},
   "source": [
    "### Questions\n",
    "1. Where do the highest wind speeds (`WMO_WIND`) appear on the map? How about fastest movement speeds (`STORM_SPEED`)? How about direction (`STORM_DIR`)?\n",
    "2. Are there any clear patterns related to latitude or longitude? Are certain storm behaviors (fast, strong) more common in the tropics vs mid-latitudes?\n",
    "3. Did anything surprise you about the spatial distribution?"
   ]
  },
  {
   "cell_type": "markdown",
   "id": "907226be-0211-4890-b7fc-f7ddcaf897b4",
   "metadata": {},
   "source": [
    "---\n",
    "\n",
    "### Final Questions\n",
    "1. Which variable relationships stood out to you as the most interesting or surprising? Did the visual patterns match the correlation numbers?\n",
    "2. When did Pearson’s correlation work well and when did it fail? How did Spearman’s or visual inspection help in those cases?\n",
    "3. How did mapping storm points help confirm or challenge your earlier observations? What additional insights did the spatial view give you?"
   ]
  }
 ],
 "metadata": {
  "kernelspec": {
   "display_name": "Python (meteo203)",
   "language": "python",
   "name": "meteo203"
  },
  "language_info": {
   "codemirror_mode": {
    "name": "ipython",
    "version": 3
   },
   "file_extension": ".py",
   "mimetype": "text/x-python",
   "name": "python",
   "nbconvert_exporter": "python",
   "pygments_lexer": "ipython3",
   "version": "3.13.5"
  }
 },
 "nbformat": 4,
 "nbformat_minor": 5
}
