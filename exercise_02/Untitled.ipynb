{
 "cells": [
  {
   "cell_type": "code",
   "execution_count": 5,
   "id": "c1da63d9-19ad-42bc-9a0c-4adec6f94e32",
   "metadata": {},
   "outputs": [
    {
     "ename": "TypeError",
     "evalue": "object of type 'int' has no len()",
     "output_type": "error",
     "traceback": [
      "\u001b[31m---------------------------------------------------------------------------\u001b[39m",
      "\u001b[31mTypeError\u001b[39m                                 Traceback (most recent call last)",
      "\u001b[36mCell\u001b[39m\u001b[36m \u001b[39m\u001b[32mIn[5]\u001b[39m\u001b[32m, line 4\u001b[39m\n\u001b[32m      1\u001b[39m \u001b[38;5;28;01mfrom\u001b[39;00m\u001b[38;5;250m \u001b[39m\u001b[34;01mscipy\u001b[39;00m\u001b[34;01m.\u001b[39;00m\u001b[34;01mfft\u001b[39;00m\u001b[38;5;250m \u001b[39m\u001b[38;5;28;01mimport\u001b[39;00m fft, fftfreq\n\u001b[32m      3\u001b[39m \u001b[38;5;66;03m# Perform Fourier Transform\u001b[39;00m\n\u001b[32m----> \u001b[39m\u001b[32m4\u001b[39m N = \u001b[38;5;28;43mlen\u001b[39;49m\u001b[43m(\u001b[49m\u001b[32;43m5\u001b[39;49m\u001b[43m)\u001b[49m\n\u001b[32m      5\u001b[39m T = t[\u001b[32m1\u001b[39m] - t[\u001b[32m0\u001b[39m]  \u001b[38;5;66;03m# Sampling interval\u001b[39;00m\n\u001b[32m      6\u001b[39m yf = fft(combined_wave)\n",
      "\u001b[31mTypeError\u001b[39m: object of type 'int' has no len()"
     ]
    }
   ],
   "source": [
    "from scipy.fft import fft, fftfreq\n",
    "\n",
    "# Perform Fourier Transform\n",
    "N = len(5)\n",
    "T = t[1] - t[0]  # Sampling interval\n",
    "yf = fft(combined_wave)\n",
    "xf = fftfreq(N, T)[:N//2]\n",
    "\n",
    "# Plot the Fourier Transform (showing the frequency components)\n",
    "plt.plot(xf, 2.0/N * np.abs(yf[:N//2]))\n",
    "plt.title(\"Fourier Transform (Frequency Components, Reduced Time)\")\n",
    "plt.xlabel(\"Frequency\")\n",
    "plt.ylabel(\"Amplitude\")\n",
    "plt.grid(True)\n",
    "plt.xlim([0, 5000])\n",
    "plt.show()"
   ]
  },
  {
   "cell_type": "code",
   "execution_count": null,
   "id": "8a7902f4-44d0-4788-a996-d3b3979a7d96",
   "metadata": {},
   "outputs": [],
   "source": []
  }
 ],
 "metadata": {
  "kernelspec": {
   "display_name": "Python 3 (ipykernel)",
   "language": "python",
   "name": "python3"
  },
  "language_info": {
   "codemirror_mode": {
    "name": "ipython",
    "version": 3
   },
   "file_extension": ".py",
   "mimetype": "text/x-python",
   "name": "python",
   "nbconvert_exporter": "python",
   "pygments_lexer": "ipython3",
   "version": "3.13.5"
  }
 },
 "nbformat": 4,
 "nbformat_minor": 5
}
