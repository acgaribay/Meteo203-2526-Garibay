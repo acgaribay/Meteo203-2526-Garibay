{
 "cells": [
  {
   "cell_type": "markdown",
   "id": "f3152085-08bd-443c-8d26-85bb22731825",
   "metadata": {},
   "source": [
    "# Exercise 3. Basic Introduction to Probability\n",
    "\n",
    "## Part 2. Real-World Probability (Science Garden)"
   ]
  },
  {
   "cell_type": "markdown",
   "id": "53b61b1f-15e6-4089-92b4-af3a7a403320",
   "metadata": {},
   "source": [
    "### Task 1. Loading real data.\n",
    "\n",
    "First, let's load a dataset of daily observations from Science Garden covering the years 2009 to 2024. Each row represents weather data for a single day."
   ]
  },
  {
   "cell_type": "code",
   "execution_count": 32,
   "id": "ff05046d-cc98-423d-9762-7c030118fc8c",
   "metadata": {},
   "outputs": [
    {
     "data": {
      "text/html": [
       "<div>\n",
       "<style scoped>\n",
       "    .dataframe tbody tr th:only-of-type {\n",
       "        vertical-align: middle;\n",
       "    }\n",
       "\n",
       "    .dataframe tbody tr th {\n",
       "        vertical-align: top;\n",
       "    }\n",
       "\n",
       "    .dataframe thead th {\n",
       "        text-align: right;\n",
       "    }\n",
       "</style>\n",
       "<table border=\"1\" class=\"dataframe\">\n",
       "  <thead>\n",
       "    <tr style=\"text-align: right;\">\n",
       "      <th></th>\n",
       "      <th>station_id</th>\n",
       "      <th>station_name</th>\n",
       "      <th>date</th>\n",
       "      <th>year</th>\n",
       "      <th>MAX_C</th>\n",
       "      <th>MIN_C</th>\n",
       "      <th>TEMP_C</th>\n",
       "      <th>DEWP_C</th>\n",
       "      <th>PRCP_mm</th>\n",
       "      <th>WDSP_ms</th>\n",
       "      <th>SLP</th>\n",
       "    </tr>\n",
       "  </thead>\n",
       "  <tbody>\n",
       "    <tr>\n",
       "      <th>0</th>\n",
       "      <td>98430099999</td>\n",
       "      <td>SCIENCE GARDEN</td>\n",
       "      <td>2009-01-01</td>\n",
       "      <td>2009</td>\n",
       "      <td>26.722221</td>\n",
       "      <td>21.777779</td>\n",
       "      <td>24.888890</td>\n",
       "      <td>21.222221</td>\n",
       "      <td>8.128</td>\n",
       "      <td>0.874555</td>\n",
       "      <td>1011.4</td>\n",
       "    </tr>\n",
       "    <tr>\n",
       "      <th>1</th>\n",
       "      <td>98430099999</td>\n",
       "      <td>SCIENCE GARDEN</td>\n",
       "      <td>2009-01-02</td>\n",
       "      <td>2009</td>\n",
       "      <td>27.000000</td>\n",
       "      <td>20.388890</td>\n",
       "      <td>23.222221</td>\n",
       "      <td>17.388890</td>\n",
       "      <td>1.778</td>\n",
       "      <td>1.234666</td>\n",
       "      <td>1013.6</td>\n",
       "    </tr>\n",
       "    <tr>\n",
       "      <th>2</th>\n",
       "      <td>98430099999</td>\n",
       "      <td>SCIENCE GARDEN</td>\n",
       "      <td>2009-01-03</td>\n",
       "      <td>2009</td>\n",
       "      <td>27.277779</td>\n",
       "      <td>18.222221</td>\n",
       "      <td>22.277779</td>\n",
       "      <td>18.000000</td>\n",
       "      <td>0.000</td>\n",
       "      <td>0.514444</td>\n",
       "      <td>1013.2</td>\n",
       "    </tr>\n",
       "    <tr>\n",
       "      <th>3</th>\n",
       "      <td>98430099999</td>\n",
       "      <td>SCIENCE GARDEN</td>\n",
       "      <td>2009-01-04</td>\n",
       "      <td>2009</td>\n",
       "      <td>29.111110</td>\n",
       "      <td>18.222221</td>\n",
       "      <td>22.888890</td>\n",
       "      <td>18.222221</td>\n",
       "      <td>0.000</td>\n",
       "      <td>0.411555</td>\n",
       "      <td>1012.1</td>\n",
       "    </tr>\n",
       "    <tr>\n",
       "      <th>4</th>\n",
       "      <td>98430099999</td>\n",
       "      <td>SCIENCE GARDEN</td>\n",
       "      <td>2009-01-05</td>\n",
       "      <td>2009</td>\n",
       "      <td>30.388890</td>\n",
       "      <td>19.222221</td>\n",
       "      <td>24.833334</td>\n",
       "      <td>19.944445</td>\n",
       "      <td>0.000</td>\n",
       "      <td>0.720222</td>\n",
       "      <td>1011.0</td>\n",
       "    </tr>\n",
       "  </tbody>\n",
       "</table>\n",
       "</div>"
      ],
      "text/plain": [
       "    station_id    station_name        date  year      MAX_C      MIN_C  \\\n",
       "0  98430099999  SCIENCE GARDEN  2009-01-01  2009  26.722221  21.777779   \n",
       "1  98430099999  SCIENCE GARDEN  2009-01-02  2009  27.000000  20.388890   \n",
       "2  98430099999  SCIENCE GARDEN  2009-01-03  2009  27.277779  18.222221   \n",
       "3  98430099999  SCIENCE GARDEN  2009-01-04  2009  29.111110  18.222221   \n",
       "4  98430099999  SCIENCE GARDEN  2009-01-05  2009  30.388890  19.222221   \n",
       "\n",
       "      TEMP_C     DEWP_C  PRCP_mm   WDSP_ms     SLP  \n",
       "0  24.888890  21.222221    8.128  0.874555  1011.4  \n",
       "1  23.222221  17.388890    1.778  1.234666  1013.6  \n",
       "2  22.277779  18.000000    0.000  0.514444  1013.2  \n",
       "3  22.888890  18.222221    0.000  0.411555  1012.1  \n",
       "4  24.833334  19.944445    0.000  0.720222  1011.0  "
      ]
     },
     "execution_count": 32,
     "metadata": {},
     "output_type": "execute_result"
    }
   ],
   "source": [
    "import pandas as pd\n",
    "\n",
    "# Load the dataset\n",
    "file_path = '../../Meteo203-2526-Garibay/data/2009-2024_SCIENCE_GARDEN.csv'\n",
    "df = pd.read_csv(file_path)\n",
    "\n",
    "# Quick preview\n",
    "df.head()\n"
   ]
  },
  {
   "cell_type": "markdown",
   "id": "5d037636-97b7-4147-98f8-7e49bb2b7764",
   "metadata": {},
   "source": [
    "#### Questions for Task 1\n",
    "1. How many rows are in the dataset? What does each row represent?\n",
    "2. How many columns? What kinds of variables are present?\n",
    "3. Are there any missing values?\n",
    "4. What are the earliest and latest years in the data?\n",
    "\n",
    "#### Some helpful commands\n",
    "\n",
    "```python\n",
    "# Show first few rows\n",
    "df.head()\n",
    "\n",
    "# Get the number of rows and columns\n",
    "df.shape\n",
    "\n",
    "# List all column names\n",
    "df.columns\n",
    "\n",
    "# Summary of each column\n",
    "df.info()\n",
    "\n",
    "# Quick stats (mean, min, max, etc.) for numeric columns\n",
    "df.describe()\n",
    "```"
   ]
  },
  {
   "cell_type": "markdown",
   "id": "93656936-fc67-4a23-b3bd-313b408c4a43",
   "metadata": {},
   "source": [
    "df.head()"
   ]
  },
  {
   "cell_type": "code",
   "execution_count": 33,
   "id": "07e082a3-c9f3-44f0-9582-a42912eaed0d",
   "metadata": {},
   "outputs": [
    {
     "data": {
      "text/plain": [
       "(5799, 11)"
      ]
     },
     "execution_count": 33,
     "metadata": {},
     "output_type": "execute_result"
    }
   ],
   "source": [
    "df.shape"
   ]
  },
  {
   "cell_type": "code",
   "execution_count": 34,
   "id": "32cbfb44-5260-4adc-a30f-125d52591750",
   "metadata": {},
   "outputs": [
    {
     "data": {
      "text/plain": [
       "Index(['station_id', 'station_name', 'date', 'year', 'MAX_C', 'MIN_C',\n",
       "       'TEMP_C', 'DEWP_C', 'PRCP_mm', 'WDSP_ms', 'SLP'],\n",
       "      dtype='object')"
      ]
     },
     "execution_count": 34,
     "metadata": {},
     "output_type": "execute_result"
    }
   ],
   "source": [
    "df.columns"
   ]
  },
  {
   "cell_type": "code",
   "execution_count": 35,
   "id": "ea037463-f335-4d93-b5af-0a53736e6af4",
   "metadata": {},
   "outputs": [
    {
     "name": "stdout",
     "output_type": "stream",
     "text": [
      "<class 'pandas.core.frame.DataFrame'>\n",
      "RangeIndex: 5799 entries, 0 to 5798\n",
      "Data columns (total 11 columns):\n",
      " #   Column        Non-Null Count  Dtype  \n",
      "---  ------        --------------  -----  \n",
      " 0   station_id    5799 non-null   int64  \n",
      " 1   station_name  5799 non-null   object \n",
      " 2   date          5799 non-null   object \n",
      " 3   year          5799 non-null   int64  \n",
      " 4   MAX_C         5799 non-null   float64\n",
      " 5   MIN_C         5799 non-null   float64\n",
      " 6   TEMP_C        5799 non-null   float64\n",
      " 7   DEWP_C        5435 non-null   float64\n",
      " 8   PRCP_mm       5737 non-null   float64\n",
      " 9   WDSP_ms       5201 non-null   float64\n",
      " 10  SLP           5433 non-null   float64\n",
      "dtypes: float64(7), int64(2), object(2)\n",
      "memory usage: 498.5+ KB\n"
     ]
    }
   ],
   "source": [
    "df.info()"
   ]
  },
  {
   "cell_type": "code",
   "execution_count": 36,
   "id": "63f5f505-34ae-476d-b72f-fd48fe426548",
   "metadata": {},
   "outputs": [
    {
     "data": {
      "text/html": [
       "<div>\n",
       "<style scoped>\n",
       "    .dataframe tbody tr th:only-of-type {\n",
       "        vertical-align: middle;\n",
       "    }\n",
       "\n",
       "    .dataframe tbody tr th {\n",
       "        vertical-align: top;\n",
       "    }\n",
       "\n",
       "    .dataframe thead th {\n",
       "        text-align: right;\n",
       "    }\n",
       "</style>\n",
       "<table border=\"1\" class=\"dataframe\">\n",
       "  <thead>\n",
       "    <tr style=\"text-align: right;\">\n",
       "      <th></th>\n",
       "      <th>station_id</th>\n",
       "      <th>year</th>\n",
       "      <th>MAX_C</th>\n",
       "      <th>MIN_C</th>\n",
       "      <th>TEMP_C</th>\n",
       "      <th>DEWP_C</th>\n",
       "      <th>PRCP_mm</th>\n",
       "      <th>WDSP_ms</th>\n",
       "      <th>SLP</th>\n",
       "    </tr>\n",
       "  </thead>\n",
       "  <tbody>\n",
       "    <tr>\n",
       "      <th>count</th>\n",
       "      <td>5.799000e+03</td>\n",
       "      <td>5799.000000</td>\n",
       "      <td>5799.000000</td>\n",
       "      <td>5799.000000</td>\n",
       "      <td>5799.000000</td>\n",
       "      <td>5435.000000</td>\n",
       "      <td>5737.000000</td>\n",
       "      <td>5201.000000</td>\n",
       "      <td>5433.000000</td>\n",
       "    </tr>\n",
       "    <tr>\n",
       "      <th>mean</th>\n",
       "      <td>9.843010e+10</td>\n",
       "      <td>2016.475254</td>\n",
       "      <td>32.082131</td>\n",
       "      <td>23.816415</td>\n",
       "      <td>27.665038</td>\n",
       "      <td>22.940713</td>\n",
       "      <td>7.983135</td>\n",
       "      <td>1.292055</td>\n",
       "      <td>1009.948978</td>\n",
       "    </tr>\n",
       "    <tr>\n",
       "      <th>std</th>\n",
       "      <td>0.000000e+00</td>\n",
       "      <td>4.598885</td>\n",
       "      <td>2.121111</td>\n",
       "      <td>1.701204</td>\n",
       "      <td>1.603560</td>\n",
       "      <td>1.927941</td>\n",
       "      <td>21.334329</td>\n",
       "      <td>0.524456</td>\n",
       "      <td>2.740182</td>\n",
       "    </tr>\n",
       "    <tr>\n",
       "      <th>min</th>\n",
       "      <td>9.843010e+10</td>\n",
       "      <td>2009.000000</td>\n",
       "      <td>22.777779</td>\n",
       "      <td>15.388889</td>\n",
       "      <td>20.222221</td>\n",
       "      <td>15.555555</td>\n",
       "      <td>0.000000</td>\n",
       "      <td>0.000000</td>\n",
       "      <td>993.000000</td>\n",
       "    </tr>\n",
       "    <tr>\n",
       "      <th>25%</th>\n",
       "      <td>9.843010e+10</td>\n",
       "      <td>2012.000000</td>\n",
       "      <td>30.777779</td>\n",
       "      <td>22.888890</td>\n",
       "      <td>26.611110</td>\n",
       "      <td>21.611110</td>\n",
       "      <td>0.000000</td>\n",
       "      <td>0.977444</td>\n",
       "      <td>1008.400000</td>\n",
       "    </tr>\n",
       "    <tr>\n",
       "      <th>50%</th>\n",
       "      <td>9.843010e+10</td>\n",
       "      <td>2016.000000</td>\n",
       "      <td>32.222220</td>\n",
       "      <td>24.111110</td>\n",
       "      <td>27.611110</td>\n",
       "      <td>23.555555</td>\n",
       "      <td>0.000000</td>\n",
       "      <td>1.234666</td>\n",
       "      <td>1009.900000</td>\n",
       "    </tr>\n",
       "    <tr>\n",
       "      <th>75%</th>\n",
       "      <td>9.843010e+10</td>\n",
       "      <td>2020.000000</td>\n",
       "      <td>33.500000</td>\n",
       "      <td>25.000000</td>\n",
       "      <td>28.722221</td>\n",
       "      <td>24.444445</td>\n",
       "      <td>6.096000</td>\n",
       "      <td>1.594776</td>\n",
       "      <td>1011.600000</td>\n",
       "    </tr>\n",
       "    <tr>\n",
       "      <th>max</th>\n",
       "      <td>9.843010e+10</td>\n",
       "      <td>2024.000000</td>\n",
       "      <td>39.388890</td>\n",
       "      <td>29.000000</td>\n",
       "      <td>32.777780</td>\n",
       "      <td>26.333334</td>\n",
       "      <td>454.914000</td>\n",
       "      <td>6.481995</td>\n",
       "      <td>1019.900000</td>\n",
       "    </tr>\n",
       "  </tbody>\n",
       "</table>\n",
       "</div>"
      ],
      "text/plain": [
       "         station_id         year        MAX_C        MIN_C       TEMP_C  \\\n",
       "count  5.799000e+03  5799.000000  5799.000000  5799.000000  5799.000000   \n",
       "mean   9.843010e+10  2016.475254    32.082131    23.816415    27.665038   \n",
       "std    0.000000e+00     4.598885     2.121111     1.701204     1.603560   \n",
       "min    9.843010e+10  2009.000000    22.777779    15.388889    20.222221   \n",
       "25%    9.843010e+10  2012.000000    30.777779    22.888890    26.611110   \n",
       "50%    9.843010e+10  2016.000000    32.222220    24.111110    27.611110   \n",
       "75%    9.843010e+10  2020.000000    33.500000    25.000000    28.722221   \n",
       "max    9.843010e+10  2024.000000    39.388890    29.000000    32.777780   \n",
       "\n",
       "            DEWP_C      PRCP_mm      WDSP_ms          SLP  \n",
       "count  5435.000000  5737.000000  5201.000000  5433.000000  \n",
       "mean     22.940713     7.983135     1.292055  1009.948978  \n",
       "std       1.927941    21.334329     0.524456     2.740182  \n",
       "min      15.555555     0.000000     0.000000   993.000000  \n",
       "25%      21.611110     0.000000     0.977444  1008.400000  \n",
       "50%      23.555555     0.000000     1.234666  1009.900000  \n",
       "75%      24.444445     6.096000     1.594776  1011.600000  \n",
       "max      26.333334   454.914000     6.481995  1019.900000  "
      ]
     },
     "execution_count": 36,
     "metadata": {},
     "output_type": "execute_result"
    }
   ],
   "source": [
    "df.describe()"
   ]
  },
  {
   "cell_type": "markdown",
   "id": "1669d3f6-1d20-4190-bcd3-1e1c399ebcbc",
   "metadata": {},
   "source": [
    "---"
   ]
  },
  {
   "cell_type": "markdown",
   "id": "26590141-5454-4db5-bd23-27b549f91965",
   "metadata": {},
   "source": [
    "### Task 2a. Defining Rainy Days\n",
    "\n",
    "Let’s define a rainy day as any day where `PRCP_mm > 0`. We'll create a new column called `is_rainy` that stores a `1` for rainy days, and `0` for dry days.\n",
    "\n",
    "This binary classification allows us to treat rain as a simple yes/no event, perfect for computing basic probabilities."
   ]
  },
  {
   "cell_type": "code",
   "execution_count": 37,
   "id": "1a245962-1274-42d2-913d-338e38b7e71b",
   "metadata": {},
   "outputs": [
    {
     "data": {
      "text/html": [
       "<div>\n",
       "<style scoped>\n",
       "    .dataframe tbody tr th:only-of-type {\n",
       "        vertical-align: middle;\n",
       "    }\n",
       "\n",
       "    .dataframe tbody tr th {\n",
       "        vertical-align: top;\n",
       "    }\n",
       "\n",
       "    .dataframe thead th {\n",
       "        text-align: right;\n",
       "    }\n",
       "</style>\n",
       "<table border=\"1\" class=\"dataframe\">\n",
       "  <thead>\n",
       "    <tr style=\"text-align: right;\">\n",
       "      <th></th>\n",
       "      <th>date</th>\n",
       "      <th>PRCP_mm</th>\n",
       "      <th>is_rainy</th>\n",
       "    </tr>\n",
       "  </thead>\n",
       "  <tbody>\n",
       "    <tr>\n",
       "      <th>0</th>\n",
       "      <td>2009-01-01</td>\n",
       "      <td>8.128</td>\n",
       "      <td>1</td>\n",
       "    </tr>\n",
       "    <tr>\n",
       "      <th>1</th>\n",
       "      <td>2009-01-02</td>\n",
       "      <td>1.778</td>\n",
       "      <td>1</td>\n",
       "    </tr>\n",
       "    <tr>\n",
       "      <th>2</th>\n",
       "      <td>2009-01-03</td>\n",
       "      <td>0.000</td>\n",
       "      <td>0</td>\n",
       "    </tr>\n",
       "    <tr>\n",
       "      <th>3</th>\n",
       "      <td>2009-01-04</td>\n",
       "      <td>0.000</td>\n",
       "      <td>0</td>\n",
       "    </tr>\n",
       "    <tr>\n",
       "      <th>4</th>\n",
       "      <td>2009-01-05</td>\n",
       "      <td>0.000</td>\n",
       "      <td>0</td>\n",
       "    </tr>\n",
       "    <tr>\n",
       "      <th>5</th>\n",
       "      <td>2009-01-06</td>\n",
       "      <td>0.000</td>\n",
       "      <td>0</td>\n",
       "    </tr>\n",
       "    <tr>\n",
       "      <th>6</th>\n",
       "      <td>2009-01-07</td>\n",
       "      <td>1.270</td>\n",
       "      <td>1</td>\n",
       "    </tr>\n",
       "    <tr>\n",
       "      <th>7</th>\n",
       "      <td>2009-01-08</td>\n",
       "      <td>4.572</td>\n",
       "      <td>1</td>\n",
       "    </tr>\n",
       "    <tr>\n",
       "      <th>8</th>\n",
       "      <td>2009-01-09</td>\n",
       "      <td>12.954</td>\n",
       "      <td>1</td>\n",
       "    </tr>\n",
       "    <tr>\n",
       "      <th>9</th>\n",
       "      <td>2009-01-10</td>\n",
       "      <td>0.000</td>\n",
       "      <td>0</td>\n",
       "    </tr>\n",
       "  </tbody>\n",
       "</table>\n",
       "</div>"
      ],
      "text/plain": [
       "         date  PRCP_mm  is_rainy\n",
       "0  2009-01-01    8.128         1\n",
       "1  2009-01-02    1.778         1\n",
       "2  2009-01-03    0.000         0\n",
       "3  2009-01-04    0.000         0\n",
       "4  2009-01-05    0.000         0\n",
       "5  2009-01-06    0.000         0\n",
       "6  2009-01-07    1.270         1\n",
       "7  2009-01-08    4.572         1\n",
       "8  2009-01-09   12.954         1\n",
       "9  2009-01-10    0.000         0"
      ]
     },
     "execution_count": 37,
     "metadata": {},
     "output_type": "execute_result"
    }
   ],
   "source": [
    "# Define rainy days (1 if PRCP_mm > 0, else 0)\n",
    "df['is_rainy'] = (df['PRCP_mm'] > 0 ).astype(int)\n",
    "\n",
    "# Check\n",
    "df[['date', 'PRCP_mm', 'is_rainy']].head(10)\n"
   ]
  },
  {
   "cell_type": "markdown",
   "id": "864bf17f-b1e0-4769-a4da-d343a9bb8019",
   "metadata": {},
   "source": [
    "### Task 2b. Comparing Rainy Day Probabilities for single years.\n",
    "\n",
    "Now that we’ve defined what counts as a rainy day, we can start computing probabilities.\n",
    "\n",
    "Let's calculate:\n",
    "- Probability of a rainy day in 2009\n",
    "- Probability of a rainy day in 2010\n",
    "\n",
    "This is simply the proportion of days with `is_rainy == 1` in each year."
   ]
  },
  {
   "cell_type": "code",
   "execution_count": 38,
   "id": "66deb140-7f4d-42d3-b8ce-1d3f9521922f",
   "metadata": {},
   "outputs": [
    {
     "name": "stdout",
     "output_type": "stream",
     "text": [
      "Probability of rain in 2009: 0.4986\n",
      "Probability of rain in 2010: 0.4078\n"
     ]
    }
   ],
   "source": [
    "# Subset the data for each year\n",
    "df_2009 = df[df['year'] == 2009 ]\n",
    "df_2010 = df[df['year'] == 2010 ]\n",
    "\n",
    "# Calculate the probability of a rainy day\n",
    "p_rain_2009 = df_2009['is_rainy'].mean()\n",
    "p_rain_2010 = df_2010['is_rainy'].mean()\n",
    "\n",
    "print(f\"Probability of rain in 2009: {p_rain_2009:.4f}\")\n",
    "print(f\"Probability of rain in 2010: {p_rain_2010:.4f}\")\n"
   ]
  },
  {
   "cell_type": "markdown",
   "id": "6b144221-44f1-4a6f-9092-ebed8fb30f68",
   "metadata": {},
   "source": [
    "### Task 2c. Comparing Rainy Day Probabilities for all available years.\n",
    "\n",
    "In the crash course, we learned about [for loops](../../crash-course/02b_for_loops.ipynb). We can create a loop that calculates the probability of a rainy day for each year in the dataset and store it in a new DataFrame called rain_prob_by_year.\n",
    "\n",
    "We loop through the available years (`years = sorted(df['year'].unique())`) and then subsetting the df (`subset = df[df['year'] == y]`), getting the relevant columns and appending in the `results` array. Finally, we convert `results` to a dataframe (`rain_prob_by_year = pd.DataFrame(results)`)."
   ]
  },
  {
   "cell_type": "code",
   "execution_count": 39,
   "id": "e00bf07b-c78b-4600-8dff-adc041494dc9",
   "metadata": {},
   "outputs": [
    {
     "data": {
      "text/html": [
       "<div>\n",
       "<style scoped>\n",
       "    .dataframe tbody tr th:only-of-type {\n",
       "        vertical-align: middle;\n",
       "    }\n",
       "\n",
       "    .dataframe tbody tr th {\n",
       "        vertical-align: top;\n",
       "    }\n",
       "\n",
       "    .dataframe thead th {\n",
       "        text-align: right;\n",
       "    }\n",
       "</style>\n",
       "<table border=\"1\" class=\"dataframe\">\n",
       "  <thead>\n",
       "    <tr style=\"text-align: right;\">\n",
       "      <th></th>\n",
       "      <th>year</th>\n",
       "      <th>P_rain</th>\n",
       "      <th>total_rain</th>\n",
       "    </tr>\n",
       "  </thead>\n",
       "  <tbody>\n",
       "    <tr>\n",
       "      <th>0</th>\n",
       "      <td>2009</td>\n",
       "      <td>0.498630</td>\n",
       "      <td>4058.412</td>\n",
       "    </tr>\n",
       "    <tr>\n",
       "      <th>1</th>\n",
       "      <td>2010</td>\n",
       "      <td>0.407821</td>\n",
       "      <td>2391.918</td>\n",
       "    </tr>\n",
       "    <tr>\n",
       "      <th>2</th>\n",
       "      <td>2011</td>\n",
       "      <td>0.506849</td>\n",
       "      <td>3736.848</td>\n",
       "    </tr>\n",
       "    <tr>\n",
       "      <th>3</th>\n",
       "      <td>2012</td>\n",
       "      <td>0.512329</td>\n",
       "      <td>4235.196</td>\n",
       "    </tr>\n",
       "    <tr>\n",
       "      <th>4</th>\n",
       "      <td>2013</td>\n",
       "      <td>0.510989</td>\n",
       "      <td>3345.434</td>\n",
       "    </tr>\n",
       "    <tr>\n",
       "      <th>5</th>\n",
       "      <td>2014</td>\n",
       "      <td>0.427397</td>\n",
       "      <td>2411.730</td>\n",
       "    </tr>\n",
       "    <tr>\n",
       "      <th>6</th>\n",
       "      <td>2015</td>\n",
       "      <td>0.397260</td>\n",
       "      <td>2510.028</td>\n",
       "    </tr>\n",
       "    <tr>\n",
       "      <th>7</th>\n",
       "      <td>2016</td>\n",
       "      <td>0.445355</td>\n",
       "      <td>2502.408</td>\n",
       "    </tr>\n",
       "    <tr>\n",
       "      <th>8</th>\n",
       "      <td>2017</td>\n",
       "      <td>0.501370</td>\n",
       "      <td>2666.238</td>\n",
       "    </tr>\n",
       "    <tr>\n",
       "      <th>9</th>\n",
       "      <td>2018</td>\n",
       "      <td>0.464286</td>\n",
       "      <td>3407.918</td>\n",
       "    </tr>\n",
       "    <tr>\n",
       "      <th>10</th>\n",
       "      <td>2019</td>\n",
       "      <td>0.427397</td>\n",
       "      <td>2353.564</td>\n",
       "    </tr>\n",
       "    <tr>\n",
       "      <th>11</th>\n",
       "      <td>2020</td>\n",
       "      <td>0.472678</td>\n",
       "      <td>2423.922</td>\n",
       "    </tr>\n",
       "    <tr>\n",
       "      <th>12</th>\n",
       "      <td>2021</td>\n",
       "      <td>0.446686</td>\n",
       "      <td>2192.020</td>\n",
       "    </tr>\n",
       "    <tr>\n",
       "      <th>13</th>\n",
       "      <td>2022</td>\n",
       "      <td>0.441989</td>\n",
       "      <td>2262.378</td>\n",
       "    </tr>\n",
       "    <tr>\n",
       "      <th>14</th>\n",
       "      <td>2023</td>\n",
       "      <td>0.483516</td>\n",
       "      <td>3070.606</td>\n",
       "    </tr>\n",
       "    <tr>\n",
       "      <th>15</th>\n",
       "      <td>2024</td>\n",
       "      <td>0.453258</td>\n",
       "      <td>2230.628</td>\n",
       "    </tr>\n",
       "  </tbody>\n",
       "</table>\n",
       "</div>"
      ],
      "text/plain": [
       "    year    P_rain  total_rain\n",
       "0   2009  0.498630    4058.412\n",
       "1   2010  0.407821    2391.918\n",
       "2   2011  0.506849    3736.848\n",
       "3   2012  0.512329    4235.196\n",
       "4   2013  0.510989    3345.434\n",
       "5   2014  0.427397    2411.730\n",
       "6   2015  0.397260    2510.028\n",
       "7   2016  0.445355    2502.408\n",
       "8   2017  0.501370    2666.238\n",
       "9   2018  0.464286    3407.918\n",
       "10  2019  0.427397    2353.564\n",
       "11  2020  0.472678    2423.922\n",
       "12  2021  0.446686    2192.020\n",
       "13  2022  0.441989    2262.378\n",
       "14  2023  0.483516    3070.606\n",
       "15  2024  0.453258    2230.628"
      ]
     },
     "execution_count": 39,
     "metadata": {},
     "output_type": "execute_result"
    }
   ],
   "source": [
    "# Get unique years in the dataset (sorted)\n",
    "years = sorted(df['year'].unique())\n",
    "\n",
    "# Create an empty list to store results\n",
    "results = []\n",
    "\n",
    "# Loop through each year and calculate rainy day probability\n",
    "for y in years:\n",
    "    subset = df[df['year'] == y]\n",
    "    prob_rain = subset['is_rainy'].mean()\n",
    "    total_rain = subset['PRCP_mm'].sum()\n",
    "    results.append({'year': y, 'P_rain': prob_rain, 'total_rain': total_rain})\n",
    "\n",
    "# Convert the list of results to a DataFrame\n",
    "rain_prob_by_year = pd.DataFrame(results)\n",
    "\n",
    "# Show the results\n",
    "rain_prob_by_year\n"
   ]
  },
  {
   "cell_type": "markdown",
   "id": "eba325ad-5d0c-47ad-b2f3-f5fe5e0f4736",
   "metadata": {},
   "source": [
    "### Task 2d. Visualize rainy day probabilities. \n",
    "\n",
    "Now that we have the yearly probabilities of rainy days stored in `rain_prob_by_year`, let’s create a  plot to visualize how the likelihood of rain changes from year to year.\n",
    "\n",
    "You can start with something like:\n",
    "\n",
    "``` python\n",
    "import matplotlib.pyplot as plt\n",
    "plt.plot(...)\n",
    "plt.show()\n",
    "```\n",
    "\n",
    "Hint: \n",
    "[`plt.plot()`](https://matplotlib.org/stable/api/_as_gen/matplotlib.pyplot.plot.html) uses the following syntax\n",
    "\n",
    "```python\n",
    "plt.plot([x], y, [fmt], *, data=None, **kwargs)\n",
    "```\n",
    "We can subset `rain_prob_by_year` as follows\n",
    "- `rain_prob_by_year['year']`\n",
    "- `rain_prob_by_year['P_rain']`\n",
    "- `rain_prob_by_year['total_rain']`\n",
    "\n",
    "\n",
    "Create two cells below that plots `P_rain` and `total_rain`"
   ]
  },
  {
   "cell_type": "code",
   "execution_count": 40,
   "id": "df4ec2db-767c-4bbf-a386-30e5ffd09ba6",
   "metadata": {},
   "outputs": [
    {
     "data": {
      "image/png": "[encoded data removed]",
      "text/plain": [
       "<Figure size 640x480 with 1 Axes>"
      ]
     },
     "metadata": {},
     "output_type": "display_data"
    }
   ],
   "source": [
    "import matplotlib.pyplot as plt\n",
    "plt.plot(rain_prob_by_year['year'], rain_prob_by_year['P_rain'] , '-o')\n",
    "plt.title('Probability of rain per year, Science Garden (2009 - 2024).')\n",
    "plt.show()"
   ]
  },
  {
   "cell_type": "code",
   "execution_count": 41,
   "id": "c3a8b26e-38d2-49c6-8cbc-8ad367c4cf14",
   "metadata": {},
   "outputs": [
    {
     "data": {
      "image/png": "[encoded data removed]",
      "text/plain": [
       "<Figure size 640x480 with 1 Axes>"
      ]
     },
     "metadata": {},
     "output_type": "display_data"
    }
   ],
   "source": [
    "import matplotlib.pyplot as plt\n",
    "plt.plot(rain_prob_by_year['year'], rain_prob_by_year['total_rain'] , '-ro')\n",
    "plt.title('Total rain per year, Science Garden (2009-2024).')\n",
    "plt.show()"
   ]
  },
  {
   "cell_type": "markdown",
   "id": "4f4da958-6228-4f78-908f-e51588a714ed",
   "metadata": {},
   "source": [
    "#### Questions for Task 2\n",
    "1. Between 2009 and 2010, which year had a higher chance of rain? Can you guess why? What might have influenced this?\n",
    "2. Compare the plots of probabilities and total rainfall. What other years have high probabilities of rain? What years have high amounts of rain?\n",
    "3. What kind of rain events might increase the total rainfall but not the frequency?\n",
    "4. One measures **how much rain falls**, the other measures **how often it rains**. When is it useful to calculate the total amount of rain? When is it more useful to focus on the probability or frequency of rain?"
   ]
  },
  {
   "cell_type": "markdown",
   "id": "ddc41b98-abb1-47d1-9ca8-ee6fc6c79477",
   "metadata": {},
   "source": []
  },
  {
   "cell_type": "markdown",
   "id": "40305736-bb70-4a95-b934-2ddfc4328330",
   "metadata": {},
   "source": [
    "---"
   ]
  },
  {
   "cell_type": "markdown",
   "id": "8ae927a2-1d0e-4e0f-823f-c7165ecc1a7d",
   "metadata": {},
   "source": [
    "### Task 3a. Probability of a Hot and Rainy Day (Joint Event)\n",
    "Now that we've looked at rainy days, let’s introduce another condition: hot days.\n",
    "\n",
    "We’ll define a hot day as any day with a maximum temperature (`MAX_C`) above a certain threshold, for example, 35°C.\n",
    "\n",
    "P(hot ∩ rainy) = Probability that a day is both hot and rainy in 2010"
   ]
  },
  {
   "cell_type": "code",
   "execution_count": 43,
   "id": "b05e4469-64fb-4678-99d9-2b7d7ca0bbfe",
   "metadata": {},
   "outputs": [
    {
     "name": "stdout",
     "output_type": "stream",
     "text": [
      "Probability of a hot and rainy day in 2010: 0.0307\n"
     ]
    }
   ],
   "source": [
    "# Focus on a single year\n",
    "df_2010 = df[df['year'] == 2010].copy()\n",
    "\n",
    "# Define hot days: MAX_C > 35\n",
    "df_2010['is_hot'] = (df_2010['MAX_C'] > 35).astype(int)\n",
    "\n",
    "# Joint event: hot AND rainy\n",
    "df_2010['hot_and_rainy'] = ((df_2010['is_hot'] == 1) & (df_2010['is_rainy'] == 1)).astype(int)\n",
    "\n",
    "# Calculate joint probability\n",
    "p_hot_and_rainy = df_2010['hot_and_rainy'].mean()\n",
    "\n",
    "print(f\"Probability of a hot and rainy day in 2010: {p_hot_and_rainy:.4f}\")\n"
   ]
  },
  {
   "cell_type": "markdown",
   "id": "047572af-25cc-403f-b624-1b7d799260ea",
   "metadata": {},
   "source": [
    "### Task 3b. Probability of a Cool and Rainy Day (Joint Event)\n",
    "In a new cell below, copy the script above and calculate the joint probability for cool (`MIN_C<25`) and rainy days. "
   ]
  },
  {
   "cell_type": "code",
   "execution_count": 44,
   "id": "f3a8aba3-d65d-40e2-bee8-f4cb667397b6",
   "metadata": {},
   "outputs": [
    {
     "name": "stdout",
     "output_type": "stream",
     "text": [
      "Probability of a cool and rainy day in 2010: 0.3156\n"
     ]
    }
   ],
   "source": [
    "# Focus on a single year\n",
    "df_2010 = df[df['year'] == 2010].copy()\n",
    "\n",
    "# Define cool days: MIN_C < 25\n",
    "df_2010['is_cool'] = (df_2010['MIN_C'] < 25).astype(int)\n",
    "\n",
    "# Joint event: cool AND rainy\n",
    "df_2010['cool_and_rainy'] = ((df_2010['is_cool'] == 1) & (df_2010['is_rainy'] == 1)).astype(int)\n",
    "\n",
    "# Calculate joint probability\n",
    "p_cool_and_rainy = df_2010['cool_and_rainy'].mean()\n",
    "\n",
    "print(f\"Probability of a cool and rainy day in 2010: {p_cool_and_rainy:.4f}\")"
   ]
  },
  {
   "cell_type": "markdown",
   "id": "87d090c3-a674-456f-b9ac-68896c555efb",
   "metadata": {},
   "source": [
    "#### Questions for Task 3\n",
    "1. Is the probability of a cool and rainy day higher or lower than the probability of a hot and rainy day in 2010?\n",
    "2. Does this match your expectations based on your own experience of rainy weather?\n",
    "3. What might be the typical season or weather pattern that causes cool and rainy days in the Philippines?\n",
    "4. Why might minimum temperature be more closely linked to rain than maximum temperature?"
   ]
  },
  {
   "cell_type": "markdown",
   "id": "5d7893e2-c40e-4d65-9063-566a748cd59c",
   "metadata": {},
   "source": []
  },
  {
   "cell_type": "markdown",
   "id": "b81b4990-f2d1-4112-9940-0fd0f80143f3",
   "metadata": {},
   "source": [
    "---\n",
    "\n",
    "### Final Questions\n",
    "\n",
    "1. What are the advantages of using probability instead of just counting rainy or hot days?\n",
    "2. How does working with real data (versus synthetic data) change your understanding of uncertainty?\n",
    "3. Which combinations of weather conditions were common? Which were rare?\n",
    "4. When is it more helpful to calculate the total amount of rain, and when is it more useful to calculate the probability of rain? (What kinds of questions can each one answer?)\n",
    "5. What are some challenges or limitations you noticed when working with real data?\n",
    "6. If you had more time or more weather variables, what patterns would you want to explore next?"
   ]
  },
  {
   "cell_type": "markdown",
   "id": "27c51c92-df4d-45d1-b4cb-47085061f547",
   "metadata": {},
   "source": []
  }
 ],
 "metadata": {
  "kernelspec": {
   "display_name": "Python (meteo203)",
   "language": "python",
   "name": "meteo203"
  },
  "language_info": {
   "codemirror_mode": {
    "name": "ipython",
    "version": 3
   },
   "file_extension": ".py",
   "mimetype": "text/x-python",
   "name": "python",
   "nbconvert_exporter": "python",
   "pygments_lexer": "ipython3",
   "version": "3.13.5"
  }
 },
 "nbformat": 4,
 "nbformat_minor": 5
}
