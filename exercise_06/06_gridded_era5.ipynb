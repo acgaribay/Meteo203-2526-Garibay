{
 "cells": [
  {
   "cell_type": "markdown",
   "id": "2748eea2-ea8c-400b-856f-88dae472680c",
   "metadata": {},
   "source": [
    "# Lab Exercise 6: Exploring the ERA5 Dataset"
   ]
  },
  {
   "cell_type": "markdown",
   "id": "7b8c4fbc-7206-4638-85f5-063bbccee8ba",
   "metadata": {},
   "source": [
    "### Task 1: Exploring the dataset contents.\n",
    "\n",
    "Let's start by investigating the dataset structure. Your dataset `era5_philippines_2009_09_27.nc` includes multiple variables with three primary dimensions (`valid_time`, `latitude`, and `longitude`).\n",
    "\n",
    "1. Examine the Variables: Identify the variable names, their dimensions, and other details from the dataset output.\n",
    "2. Research Variable Descriptions: Use the [ERA5 data documentation](https://confluence.ecmwf.int/display/CKB/ERA5%3A+data+documentation) to understand what each variable represents. "
   ]
  },
  {
   "cell_type": "markdown",
   "id": "3ed8f89c-a24d-4528-b1e6-e0f9b2084ab5",
   "metadata": {},
   "source": [
    "Install the xarray and netCDF4 package (if not present)\n",
    "\n",
    "```bash\n",
    "!conda install -c conda-forge xarray netCDF4 --name meteo203 -y\n",
    "```"
   ]
  },
  {
   "cell_type": "code",
   "execution_count": 2,
   "id": "6c12c06e-d1d4-4846-a260-fda176df389c",
   "metadata": {
    "scrolled": true
   },
   "outputs": [
    {
     "ename": "TypeError",
     "evalue": "expected string or bytes-like object, got 'NoneType'",
     "output_type": "error",
     "traceback": [
      "\u001b[31m---------------------------------------------------------------------------\u001b[39m",
      "\u001b[31mTypeError\u001b[39m                                 Traceback (most recent call last)",
      "\u001b[36mCell\u001b[39m\u001b[36m \u001b[39m\u001b[32mIn[2]\u001b[39m\u001b[32m, line 1\u001b[39m\n\u001b[32m----> \u001b[39m\u001b[32m1\u001b[39m \u001b[38;5;28;01mimport\u001b[39;00m\u001b[38;5;250m \u001b[39m\u001b[34;01mxarray\u001b[39;00m\u001b[38;5;250m \u001b[39m\u001b[38;5;28;01mas\u001b[39;00m\u001b[38;5;250m \u001b[39m\u001b[34;01mxr\u001b[39;00m\n\u001b[32m      2\u001b[39m \u001b[38;5;28;01mimport\u001b[39;00m\u001b[38;5;250m \u001b[39m\u001b[34;01mmatplotlib\u001b[39;00m\u001b[34;01m.\u001b[39;00m\u001b[34;01mpyplot\u001b[39;00m\u001b[38;5;250m \u001b[39m\u001b[38;5;28;01mas\u001b[39;00m\u001b[38;5;250m \u001b[39m\u001b[34;01mplt\u001b[39;00m\n\u001b[32m      3\u001b[39m \u001b[38;5;28;01mimport\u001b[39;00m\u001b[38;5;250m \u001b[39m\u001b[34;01mcartopy\u001b[39;00m\u001b[34;01m.\u001b[39;00m\u001b[34;01mcrs\u001b[39;00m\u001b[38;5;250m \u001b[39m\u001b[38;5;28;01mas\u001b[39;00m\u001b[38;5;250m \u001b[39m\u001b[34;01mccrs\u001b[39;00m\n",
      "\u001b[36mFile \u001b[39m\u001b[32m~\\miniconda3\\Lib\\site-packages\\xarray\\__init__.py:3\u001b[39m\n\u001b[32m      1\u001b[39m \u001b[38;5;28;01mfrom\u001b[39;00m\u001b[38;5;250m \u001b[39m\u001b[34;01mimportlib\u001b[39;00m\u001b[34;01m.\u001b[39;00m\u001b[34;01mmetadata\u001b[39;00m\u001b[38;5;250m \u001b[39m\u001b[38;5;28;01mimport\u001b[39;00m version \u001b[38;5;28;01mas\u001b[39;00m _version\n\u001b[32m----> \u001b[39m\u001b[32m3\u001b[39m \u001b[38;5;28;01mfrom\u001b[39;00m\u001b[38;5;250m \u001b[39m\u001b[34;01mxarray\u001b[39;00m\u001b[38;5;250m \u001b[39m\u001b[38;5;28;01mimport\u001b[39;00m coders, groupers, indexes, testing, tutorial, ufuncs\n\u001b[32m      4\u001b[39m \u001b[38;5;28;01mfrom\u001b[39;00m\u001b[38;5;250m \u001b[39m\u001b[34;01mxarray\u001b[39;00m\u001b[34;01m.\u001b[39;00m\u001b[34;01mbackends\u001b[39;00m\u001b[34;01m.\u001b[39;00m\u001b[34;01mapi\u001b[39;00m\u001b[38;5;250m \u001b[39m\u001b[38;5;28;01mimport\u001b[39;00m (\n\u001b[32m      5\u001b[39m     load_dataarray,\n\u001b[32m      6\u001b[39m     load_dataset,\n\u001b[32m   (...)\u001b[39m\u001b[32m     12\u001b[39m     open_mfdataset,\n\u001b[32m     13\u001b[39m )\n\u001b[32m     14\u001b[39m \u001b[38;5;28;01mfrom\u001b[39;00m\u001b[38;5;250m \u001b[39m\u001b[34;01mxarray\u001b[39;00m\u001b[34;01m.\u001b[39;00m\u001b[34;01mbackends\u001b[39;00m\u001b[34;01m.\u001b[39;00m\u001b[34;01mwriters\u001b[39;00m\u001b[38;5;250m \u001b[39m\u001b[38;5;28;01mimport\u001b[39;00m save_mfdataset\n",
      "\u001b[36mFile \u001b[39m\u001b[32m~\\miniconda3\\Lib\\site-packages\\xarray\\coders.py:6\u001b[39m\n\u001b[32m      1\u001b[39m \u001b[33;03m\"\"\"\u001b[39;00m\n\u001b[32m      2\u001b[39m \u001b[33;03mThis module provides coder objects that encapsulate the\u001b[39;00m\n\u001b[32m      3\u001b[39m \u001b[33;03m\"encoding/decoding\" process.\u001b[39;00m\n\u001b[32m      4\u001b[39m \u001b[33;03m\"\"\"\u001b[39;00m\n\u001b[32m----> \u001b[39m\u001b[32m6\u001b[39m \u001b[38;5;28;01mfrom\u001b[39;00m\u001b[38;5;250m \u001b[39m\u001b[34;01mxarray\u001b[39;00m\u001b[34;01m.\u001b[39;00m\u001b[34;01mcoding\u001b[39;00m\u001b[34;01m.\u001b[39;00m\u001b[34;01mtimes\u001b[39;00m\u001b[38;5;250m \u001b[39m\u001b[38;5;28;01mimport\u001b[39;00m CFDatetimeCoder, CFTimedeltaCoder\n\u001b[32m      8\u001b[39m __all__ = [\u001b[33m\"\u001b[39m\u001b[33mCFDatetimeCoder\u001b[39m\u001b[33m\"\u001b[39m, \u001b[33m\"\u001b[39m\u001b[33mCFTimedeltaCoder\u001b[39m\u001b[33m\"\u001b[39m]\n",
      "\u001b[36mFile \u001b[39m\u001b[32m~\\miniconda3\\Lib\\site-packages\\xarray\\coding\\times.py:15\u001b[39m\n\u001b[32m     12\u001b[39m \u001b[38;5;28;01mimport\u001b[39;00m\u001b[38;5;250m \u001b[39m\u001b[34;01mpandas\u001b[39;00m\u001b[38;5;250m \u001b[39m\u001b[38;5;28;01mas\u001b[39;00m\u001b[38;5;250m \u001b[39m\u001b[34;01mpd\u001b[39;00m\n\u001b[32m     13\u001b[39m \u001b[38;5;28;01mfrom\u001b[39;00m\u001b[38;5;250m \u001b[39m\u001b[34;01mpandas\u001b[39;00m\u001b[34;01m.\u001b[39;00m\u001b[34;01merrors\u001b[39;00m\u001b[38;5;250m \u001b[39m\u001b[38;5;28;01mimport\u001b[39;00m OutOfBoundsDatetime, OutOfBoundsTimedelta\n\u001b[32m---> \u001b[39m\u001b[32m15\u001b[39m \u001b[38;5;28;01mfrom\u001b[39;00m\u001b[38;5;250m \u001b[39m\u001b[34;01mxarray\u001b[39;00m\u001b[34;01m.\u001b[39;00m\u001b[34;01mcoding\u001b[39;00m\u001b[34;01m.\u001b[39;00m\u001b[34;01mcommon\u001b[39;00m\u001b[38;5;250m \u001b[39m\u001b[38;5;28;01mimport\u001b[39;00m (\n\u001b[32m     16\u001b[39m     SerializationWarning,\n\u001b[32m     17\u001b[39m     VariableCoder,\n\u001b[32m     18\u001b[39m     lazy_elemwise_func,\n\u001b[32m     19\u001b[39m     pop_to,\n\u001b[32m     20\u001b[39m     safe_setitem,\n\u001b[32m     21\u001b[39m     unpack_for_decoding,\n\u001b[32m     22\u001b[39m     unpack_for_encoding,\n\u001b[32m     23\u001b[39m )\n\u001b[32m     24\u001b[39m \u001b[38;5;28;01mfrom\u001b[39;00m\u001b[38;5;250m \u001b[39m\u001b[34;01mxarray\u001b[39;00m\u001b[34;01m.\u001b[39;00m\u001b[34;01mcompat\u001b[39;00m\u001b[34;01m.\u001b[39;00m\u001b[34;01mpdcompat\u001b[39;00m\u001b[38;5;250m \u001b[39m\u001b[38;5;28;01mimport\u001b[39;00m default_precision_timestamp, timestamp_as_unit\n\u001b[32m     25\u001b[39m \u001b[38;5;28;01mfrom\u001b[39;00m\u001b[38;5;250m \u001b[39m\u001b[34;01mxarray\u001b[39;00m\u001b[34;01m.\u001b[39;00m\u001b[34;01mcore\u001b[39;00m\u001b[38;5;250m \u001b[39m\u001b[38;5;28;01mimport\u001b[39;00m indexing\n",
      "\u001b[36mFile \u001b[39m\u001b[32m~\\miniconda3\\Lib\\site-packages\\xarray\\coding\\common.py:8\u001b[39m\n\u001b[32m      4\u001b[39m \u001b[38;5;28;01mfrom\u001b[39;00m\u001b[38;5;250m \u001b[39m\u001b[34;01mtyping\u001b[39;00m\u001b[38;5;250m \u001b[39m\u001b[38;5;28;01mimport\u001b[39;00m TYPE_CHECKING, Any, Union\n\u001b[32m      6\u001b[39m \u001b[38;5;28;01mimport\u001b[39;00m\u001b[38;5;250m \u001b[39m\u001b[34;01mnumpy\u001b[39;00m\u001b[38;5;250m \u001b[39m\u001b[38;5;28;01mas\u001b[39;00m\u001b[38;5;250m \u001b[39m\u001b[34;01mnp\u001b[39;00m\n\u001b[32m----> \u001b[39m\u001b[32m8\u001b[39m \u001b[38;5;28;01mfrom\u001b[39;00m\u001b[38;5;250m \u001b[39m\u001b[34;01mxarray\u001b[39;00m\u001b[34;01m.\u001b[39;00m\u001b[34;01mcore\u001b[39;00m\u001b[38;5;250m \u001b[39m\u001b[38;5;28;01mimport\u001b[39;00m indexing\n\u001b[32m      9\u001b[39m \u001b[38;5;28;01mfrom\u001b[39;00m\u001b[38;5;250m \u001b[39m\u001b[34;01mxarray\u001b[39;00m\u001b[34;01m.\u001b[39;00m\u001b[34;01mcore\u001b[39;00m\u001b[34;01m.\u001b[39;00m\u001b[34;01mvariable\u001b[39;00m\u001b[38;5;250m \u001b[39m\u001b[38;5;28;01mimport\u001b[39;00m Variable\n\u001b[32m     10\u001b[39m \u001b[38;5;28;01mfrom\u001b[39;00m\u001b[38;5;250m \u001b[39m\u001b[34;01mxarray\u001b[39;00m\u001b[34;01m.\u001b[39;00m\u001b[34;01mnamedarray\u001b[39;00m\u001b[34;01m.\u001b[39;00m\u001b[34;01mparallelcompat\u001b[39;00m\u001b[38;5;250m \u001b[39m\u001b[38;5;28;01mimport\u001b[39;00m get_chunked_array_type\n",
      "\u001b[36mFile \u001b[39m\u001b[32m~\\miniconda3\\Lib\\site-packages\\xarray\\core\\indexing.py:19\u001b[39m\n\u001b[32m     16\u001b[39m \u001b[38;5;28;01mfrom\u001b[39;00m\u001b[38;5;250m \u001b[39m\u001b[34;01mnumpy\u001b[39;00m\u001b[34;01m.\u001b[39;00m\u001b[34;01mtyping\u001b[39;00m\u001b[38;5;250m \u001b[39m\u001b[38;5;28;01mimport\u001b[39;00m DTypeLike\n\u001b[32m     17\u001b[39m \u001b[38;5;28;01mfrom\u001b[39;00m\u001b[38;5;250m \u001b[39m\u001b[34;01mpackaging\u001b[39;00m\u001b[34;01m.\u001b[39;00m\u001b[34;01mversion\u001b[39;00m\u001b[38;5;250m \u001b[39m\u001b[38;5;28;01mimport\u001b[39;00m Version\n\u001b[32m---> \u001b[39m\u001b[32m19\u001b[39m \u001b[38;5;28;01mfrom\u001b[39;00m\u001b[38;5;250m \u001b[39m\u001b[34;01mxarray\u001b[39;00m\u001b[34;01m.\u001b[39;00m\u001b[34;01mcore\u001b[39;00m\u001b[38;5;250m \u001b[39m\u001b[38;5;28;01mimport\u001b[39;00m duck_array_ops\n\u001b[32m     20\u001b[39m \u001b[38;5;28;01mfrom\u001b[39;00m\u001b[38;5;250m \u001b[39m\u001b[34;01mxarray\u001b[39;00m\u001b[34;01m.\u001b[39;00m\u001b[34;01mcore\u001b[39;00m\u001b[34;01m.\u001b[39;00m\u001b[34;01mcoordinate_transform\u001b[39;00m\u001b[38;5;250m \u001b[39m\u001b[38;5;28;01mimport\u001b[39;00m CoordinateTransform\n\u001b[32m     21\u001b[39m \u001b[38;5;28;01mfrom\u001b[39;00m\u001b[38;5;250m \u001b[39m\u001b[34;01mxarray\u001b[39;00m\u001b[34;01m.\u001b[39;00m\u001b[34;01mcore\u001b[39;00m\u001b[34;01m.\u001b[39;00m\u001b[34;01mnputils\u001b[39;00m\u001b[38;5;250m \u001b[39m\u001b[38;5;28;01mimport\u001b[39;00m NumpyVIndexAdapter\n",
      "\u001b[36mFile \u001b[39m\u001b[32m~\\miniconda3\\Lib\\site-packages\\xarray\\core\\duck_array_ops.py:27\u001b[39m\n\u001b[32m     19\u001b[39m \u001b[38;5;28;01mimport\u001b[39;00m\u001b[38;5;250m \u001b[39m\u001b[34;01mpandas\u001b[39;00m\u001b[38;5;250m \u001b[39m\u001b[38;5;28;01mas\u001b[39;00m\u001b[38;5;250m \u001b[39m\u001b[34;01mpd\u001b[39;00m\n\u001b[32m     20\u001b[39m \u001b[38;5;28;01mfrom\u001b[39;00m\u001b[38;5;250m \u001b[39m\u001b[34;01mnumpy\u001b[39;00m\u001b[38;5;250m \u001b[39m\u001b[38;5;28;01mimport\u001b[39;00m (\n\u001b[32m     21\u001b[39m     isclose,\n\u001b[32m     22\u001b[39m     isnat,\n\u001b[32m     23\u001b[39m     take,\n\u001b[32m     24\u001b[39m     unravel_index,  \u001b[38;5;66;03m# noqa: F401\u001b[39;00m\n\u001b[32m     25\u001b[39m )\n\u001b[32m---> \u001b[39m\u001b[32m27\u001b[39m \u001b[38;5;28;01mfrom\u001b[39;00m\u001b[38;5;250m \u001b[39m\u001b[34;01mxarray\u001b[39;00m\u001b[34;01m.\u001b[39;00m\u001b[34;01mcompat\u001b[39;00m\u001b[38;5;250m \u001b[39m\u001b[38;5;28;01mimport\u001b[39;00m dask_array_compat, dask_array_ops\n\u001b[32m     28\u001b[39m \u001b[38;5;28;01mfrom\u001b[39;00m\u001b[38;5;250m \u001b[39m\u001b[34;01mxarray\u001b[39;00m\u001b[34;01m.\u001b[39;00m\u001b[34;01mcompat\u001b[39;00m\u001b[34;01m.\u001b[39;00m\u001b[34;01marray_api_compat\u001b[39;00m\u001b[38;5;250m \u001b[39m\u001b[38;5;28;01mimport\u001b[39;00m get_array_namespace\n\u001b[32m     29\u001b[39m \u001b[38;5;28;01mfrom\u001b[39;00m\u001b[38;5;250m \u001b[39m\u001b[34;01mxarray\u001b[39;00m\u001b[34;01m.\u001b[39;00m\u001b[34;01mcore\u001b[39;00m\u001b[38;5;250m \u001b[39m\u001b[38;5;28;01mimport\u001b[39;00m dtypes, nputils\n",
      "\u001b[36mFile \u001b[39m\u001b[32m~\\miniconda3\\Lib\\site-packages\\xarray\\compat\\dask_array_ops.py:6\u001b[39m\n\u001b[32m      3\u001b[39m \u001b[38;5;28;01mimport\u001b[39;00m\u001b[38;5;250m \u001b[39m\u001b[34;01mmath\u001b[39;00m\n\u001b[32m      5\u001b[39m \u001b[38;5;28;01mfrom\u001b[39;00m\u001b[38;5;250m \u001b[39m\u001b[34;01mxarray\u001b[39;00m\u001b[34;01m.\u001b[39;00m\u001b[34;01mcompat\u001b[39;00m\u001b[34;01m.\u001b[39;00m\u001b[34;01mdask_array_compat\u001b[39;00m\u001b[38;5;250m \u001b[39m\u001b[38;5;28;01mimport\u001b[39;00m reshape_blockwise\n\u001b[32m----> \u001b[39m\u001b[32m6\u001b[39m \u001b[38;5;28;01mfrom\u001b[39;00m\u001b[38;5;250m \u001b[39m\u001b[34;01mxarray\u001b[39;00m\u001b[34;01m.\u001b[39;00m\u001b[34;01mcore\u001b[39;00m\u001b[38;5;250m \u001b[39m\u001b[38;5;28;01mimport\u001b[39;00m dtypes, nputils\n\u001b[32m      9\u001b[39m \u001b[38;5;28;01mdef\u001b[39;00m\u001b[38;5;250m \u001b[39m\u001b[34mdask_rolling_wrapper\u001b[39m(moving_func, a, window, min_count=\u001b[38;5;28;01mNone\u001b[39;00m, axis=-\u001b[32m1\u001b[39m):\n\u001b[32m     10\u001b[39m \u001b[38;5;250m    \u001b[39m\u001b[33;03m\"\"\"Wrapper to apply bottleneck moving window funcs on dask arrays\"\"\"\u001b[39;00m\n",
      "\u001b[36mFile \u001b[39m\u001b[32m~\\miniconda3\\Lib\\site-packages\\xarray\\core\\nputils.py:15\u001b[39m\n\u001b[32m     12\u001b[39m \u001b[38;5;28;01mfrom\u001b[39;00m\u001b[38;5;250m \u001b[39m\u001b[34;01mxarray\u001b[39;00m\u001b[34;01m.\u001b[39;00m\u001b[34;01mnamedarray\u001b[39;00m\u001b[38;5;250m \u001b[39m\u001b[38;5;28;01mimport\u001b[39;00m pycompat\n\u001b[32m     14\u001b[39m \u001b[38;5;66;03m# remove once numpy 2.0 is the oldest supported version\u001b[39;00m\n\u001b[32m---> \u001b[39m\u001b[32m15\u001b[39m \u001b[38;5;28;01mif\u001b[39;00m \u001b[43mmodule_available\u001b[49m\u001b[43m(\u001b[49m\u001b[33;43m\"\u001b[39;49m\u001b[33;43mnumpy\u001b[39;49m\u001b[33;43m\"\u001b[39;49m\u001b[43m,\u001b[49m\u001b[43m \u001b[49m\u001b[43mminversion\u001b[49m\u001b[43m=\u001b[49m\u001b[33;43m\"\u001b[39;49m\u001b[33;43m2.0.0.dev0\u001b[39;49m\u001b[33;43m\"\u001b[39;49m\u001b[43m)\u001b[49m:\n\u001b[32m     16\u001b[39m     \u001b[38;5;28;01mfrom\u001b[39;00m\u001b[38;5;250m \u001b[39m\u001b[34;01mnumpy\u001b[39;00m\u001b[34;01m.\u001b[39;00m\u001b[34;01mlib\u001b[39;00m\u001b[34;01m.\u001b[39;00m\u001b[34;01marray_utils\u001b[39;00m\u001b[38;5;250m \u001b[39m\u001b[38;5;28;01mimport\u001b[39;00m (  \u001b[38;5;66;03m# type: ignore[import-not-found,unused-ignore]\u001b[39;00m\n\u001b[32m     17\u001b[39m         normalize_axis_index,\n\u001b[32m     18\u001b[39m     )\n\u001b[32m     19\u001b[39m \u001b[38;5;28;01melse\u001b[39;00m:\n",
      "\u001b[36mFile \u001b[39m\u001b[32m~\\miniconda3\\Lib\\site-packages\\xarray\\namedarray\\utils.py:58\u001b[39m, in \u001b[36mmodule_available\u001b[39m\u001b[34m(module, minversion)\u001b[39m\n\u001b[32m     55\u001b[39m \u001b[38;5;28;01mif\u001b[39;00m minversion \u001b[38;5;129;01mis\u001b[39;00m \u001b[38;5;129;01mnot\u001b[39;00m \u001b[38;5;28;01mNone\u001b[39;00m:\n\u001b[32m     56\u001b[39m     version = importlib.metadata.version(module)\n\u001b[32m---> \u001b[39m\u001b[32m58\u001b[39m     \u001b[38;5;28;01mreturn\u001b[39;00m \u001b[43mVersion\u001b[49m\u001b[43m(\u001b[49m\u001b[43mversion\u001b[49m\u001b[43m)\u001b[49m >= Version(minversion)\n\u001b[32m     60\u001b[39m \u001b[38;5;28;01mreturn\u001b[39;00m \u001b[38;5;28;01mTrue\u001b[39;00m\n",
      "\u001b[36mFile \u001b[39m\u001b[32m~\\miniconda3\\Lib\\site-packages\\packaging\\version.py:200\u001b[39m, in \u001b[36mVersion.__init__\u001b[39m\u001b[34m(self, version)\u001b[39m\n\u001b[32m    189\u001b[39m \u001b[38;5;250m\u001b[39m\u001b[33;03m\"\"\"Initialize a Version object.\u001b[39;00m\n\u001b[32m    190\u001b[39m \n\u001b[32m    191\u001b[39m \u001b[33;03m:param version:\u001b[39;00m\n\u001b[32m   (...)\u001b[39m\u001b[32m    196\u001b[39m \u001b[33;03m    exception will be raised.\u001b[39;00m\n\u001b[32m    197\u001b[39m \u001b[33;03m\"\"\"\u001b[39;00m\n\u001b[32m    199\u001b[39m \u001b[38;5;66;03m# Validate the version and parse it into pieces\u001b[39;00m\n\u001b[32m--> \u001b[39m\u001b[32m200\u001b[39m match = \u001b[38;5;28;43mself\u001b[39;49m\u001b[43m.\u001b[49m\u001b[43m_regex\u001b[49m\u001b[43m.\u001b[49m\u001b[43msearch\u001b[49m\u001b[43m(\u001b[49m\u001b[43mversion\u001b[49m\u001b[43m)\u001b[49m\n\u001b[32m    201\u001b[39m \u001b[38;5;28;01mif\u001b[39;00m \u001b[38;5;129;01mnot\u001b[39;00m match:\n\u001b[32m    202\u001b[39m     \u001b[38;5;28;01mraise\u001b[39;00m InvalidVersion(\u001b[33mf\u001b[39m\u001b[33m\"\u001b[39m\u001b[33mInvalid version: \u001b[39m\u001b[38;5;132;01m{\u001b[39;00mversion\u001b[38;5;132;01m!r}\u001b[39;00m\u001b[33m\"\u001b[39m)\n",
      "\u001b[31mTypeError\u001b[39m: expected string or bytes-like object, got 'NoneType'"
     ]
    }
   ],
   "source": [
    "import xarray as xr\n",
    "import matplotlib.pyplot as plt\n",
    "import cartopy.crs as ccrs\n",
    "import cartopy.feature as cfeature\n",
    "import numpy as np\n",
    "import pandas as pd\n",
    "\n",
    "\n",
    "# Load the netCDF file\n",
    "file_path = 'era5_philippines_2009_09_27.nc'\n",
    "data = xr.open_dataset(file_path)\n",
    "\n",
    "# Display dataset information\n",
    "data\n"
   ]
  },
  {
   "cell_type": "markdown",
   "id": "9bf1bbe2-0c41-48d8-925a-33cbb4b47052",
   "metadata": {},
   "source": [
    "#### Questions\n",
    "\n",
    "1. What are the primary dimensions (temporal, spatial) of this dataset?\n",
    "2. How many elements are there for each dimension?\n",
    "3. What do each of the variables represent? Hint: look for the keyword `GRIB Name`\n",
    "4. How often is the data recorded?\n",
    "5. What is is the extent (`latitude`, `longitude`) of this dataset? Describe in terms of minimum and maximum latitude and longitude."
   ]
  },
  {
   "cell_type": "markdown",
   "id": "c0105dff-8b7a-405e-a265-c6dbb1c5c452",
   "metadata": {},
   "source": [
    "#### Answers \n",
    "\n"
   ]
  },
  {
   "cell_type": "markdown",
   "id": "792ec927-568c-4f0b-9199-fa8e6bff50d9",
   "metadata": {},
   "source": [
    "---\n",
    "\n",
    "### Task 2: Slicing gridded data by index. \n",
    "\n",
    "The next step in our lab exercise is to calculate descriptive statistics and visualize the `t2m` (2-meter temperature) variable, which represents the air temperature close to the ground.\n",
    "\n",
    "The structure of netCDF files is slightly different from HDF5 files, although both are commonly used for gridded scientific data. netCDF files, often used in atmospheric and climate sciences, are organized by dimensions, variables, and metadata:\n",
    "\n",
    "1. Dimensions: These are the axes of the data (e.g., latitude, longitude, time). Each variable is defined over one or more dimensions.\n",
    "2. Variables: These contain the actual data values. Each variable (like `t2m`) is associated with one or more dimensions.\n",
    "3. Attributes: Metadata that describes each variable and the dataset as a whole.\n",
    "\n",
    "In this task, we’ll perform basic statistics on `t2m` for a time slice and create a plot. This process includes calculating the mean, minimum, and maximum temperature over the dataset's time and spatial dimensions. \n",
    "\n",
    "We can easily [slice a subset of the data](https://www.w3schools.com/python/numpy/numpy_array_slicing.asp) as follows\n",
    "\n",
    "```python\n",
    "data[i, j ,k]\n",
    "```\n",
    "\n",
    "where `i`, `j`, and `k` are the index elements.\n",
    "\n",
    "\n",
    "Consider the dimensions below for the subset `data['t2m']`\n",
    "```python\n",
    "(valid_time: 4, latitude: 121, longitude: 241)\n",
    "```\n",
    "\n",
    "We can take the ith time step, jth latitude, and kth longitude using the following \n",
    "\n",
    "```python\n",
    "data['t2m'][i, j ,k]\n",
    "```\n",
    "\n",
    "In the code block below, access the `t2m` variable, and then slice according to i. Calculate the basic descriptive statistics (mean, min, max, median). Plot the data in a separate code block. \n",
    "\n",
    "We'll slice according to latitude and longitude in the next task."
   ]
  },
  {
   "cell_type": "code",
   "execution_count": 4,
   "id": "03fa81b5-8da6-4f0f-9b21-64537b88510d",
   "metadata": {},
   "outputs": [
    {
     "ename": "NameError",
     "evalue": "name 'data' is not defined",
     "output_type": "error",
     "traceback": [
      "\u001b[31m---------------------------------------------------------------------------\u001b[39m",
      "\u001b[31mNameError\u001b[39m                                 Traceback (most recent call last)",
      "\u001b[36mCell\u001b[39m\u001b[36m \u001b[39m\u001b[32mIn[4]\u001b[39m\u001b[32m, line 2\u001b[39m\n\u001b[32m      1\u001b[39m \u001b[38;5;66;03m# Access the 't2m' variable for index i\u001b[39;00m\n\u001b[32m----> \u001b[39m\u001b[32m2\u001b[39m t2m_slice = \u001b[43mdata\u001b[49m[\u001b[33m'\u001b[39m\u001b[33mt2m\u001b[39m\u001b[33m'\u001b[39m][i]\n\u001b[32m      3\u001b[39m time =  data[\u001b[33m'\u001b[39m\u001b[33mvalid_time\u001b[39m\u001b[33m'\u001b[39m][i].values\n\u001b[32m      4\u001b[39m time_str = pd.to_datetime(time).strftime(\u001b[33m'\u001b[39m\u001b[33m%\u001b[39m\u001b[33mY-\u001b[39m\u001b[33m%\u001b[39m\u001b[33mm-\u001b[39m\u001b[38;5;132;01m%d\u001b[39;00m\u001b[33m \u001b[39m\u001b[33m%\u001b[39m\u001b[33mH:\u001b[39m\u001b[33m%\u001b[39m\u001b[33mM\u001b[39m\u001b[33m'\u001b[39m)\n",
      "\u001b[31mNameError\u001b[39m: name 'data' is not defined"
     ]
    }
   ],
   "source": [
    "\n",
    "# Access the 't2m' variable for index i\n",
    "t2m_slice = data['t2m'][i]\n",
    "time =  data['valid_time'][i].values\n",
    "time_str = pd.to_datetime(time).strftime('%Y-%m-%d %H:%M')\n",
    "\n",
    "# Calculate descriptive statistics\n",
    "mean_t2m = .mean()\n",
    "min_t2m = .min()\n",
    "max_t2m =  .max()\n",
    "\n",
    "print(f\"Mean 2m Temperature: {mean_t2m:.2f} K\")\n",
    "print(f\"Min 2m Temperature: {min_t2m:.2f} K\")\n",
    "print(f\"Max 2m Temperature: {max_t2m:.2f} K\")\n",
    "\n"
   ]
  },
  {
   "cell_type": "code",
   "execution_count": null,
   "id": "fc29d8ee-cffd-4355-8222-833ca6a7c04c",
   "metadata": {},
   "outputs": [],
   "source": [
    "# plotting t2m_slice\n",
    "# Set up the figure and map projection\n",
    "fig = plt.figure(figsize=(10, 8))\n",
    "ax = plt.axes(projection=ccrs.PlateCarree())\n",
    "\n",
    "# ax.set_extent([121.5, 122, 15.5, 16], crs=ccrs.PlateCarree()) \n",
    "# Add coastlines and gridlines\n",
    "ax.coastlines(resolution=\"10m\", linewidth=1)\n",
    "ax.add_feature(cfeature.BORDERS, linestyle=':')\n",
    "\n",
    "# Plot the temperature data\n",
    "temperature_plot = ax.pcolormesh(data['longitude'], data['latitude'], t2m_slice, \n",
    "                                 cmap='coolwarm', shading='auto', transform=ccrs.PlateCarree(),\n",
    "                                 vmin=290, vmax=306)\n",
    "plt.colorbar(temperature_plot, orientation='vertical', pad=0.02, label='2m Temperature (K)')\n",
    "plt.title(f\"2m Temperature Over the Philippines, {time_str}\")\n",
    "\n",
    "plt.show()\n"
   ]
  },
  {
   "cell_type": "markdown",
   "id": "b23c4fa0-37c1-4fd5-859f-1e7219e9b561",
   "metadata": {},
   "source": [
    "#### Questions\n",
    "\n",
    "1. What time does `i` represent? Why do we need `i` in `data['t2m'][i]`?\n",
    "2. For the selected time slice and extend, what are the average, maximum, and minimum temperatures? \n",
    "3. How does the temperature vary across the given region? Where are the highest and lowest temperatures located? You can answer in terms of geography, or in terms of location (lon, lat).\n",
    "4. Duplicate the cell above, and then change `i` to a different value. Compare and contrast the two plots. What is a possible reason for the temperature difference between timesteps? What is the time difference between the time steps you are viewing?"
   ]
  },
  {
   "cell_type": "markdown",
   "id": "da1deca6-49d3-4860-99ae-d577bc79c7f3",
   "metadata": {},
   "source": [
    "#### Answers"
   ]
  },
  {
   "cell_type": "markdown",
   "id": "e4e986b6-8c12-4ca3-acdb-1f53af7f4a68",
   "metadata": {},
   "source": []
  },
  {
   "cell_type": "markdown",
   "id": "5577f62e-0931-4fdb-83cb-039c25a2d609",
   "metadata": {},
   "source": [
    "---\n",
    "### Task 3. Slicing gridded data by extent. \n",
    "\n",
    "Relying on the dimension order (`i`, `j`, `k`) can be confusing. xarray actually allows us to [slice along dimension names](https://docs.xarray.dev/en/latest/user-guide/indexing.html#indexing-with-dimension-names), especially if you know the dimensions of the dataset. \n",
    "\n",
    "For example, instead of specifying \n",
    "\n",
    "```python\n",
    "data['t2m'][i]\n",
    "```\n",
    "\n",
    "to get the ith time step, we can select timesteps using the following:\n",
    "\n",
    "```python\n",
    "data['t2m'].sel(valid_time='2009-09-27 00:00')\n",
    "```\n",
    "\n",
    "We can also combine slicing across dimensions, and according to ranges. For example\n",
    "```python\n",
    "data['t2m'].sel(valid_time='2009-09-27 00:00', longitude=slice(111, 112), latitude=slice(21, 20))\n",
    "```\n",
    "\n",
    "If you forget the individual elements or variables, you can always display the dataset in a new code block so you can get the different variables and extents. \n",
    "\n",
    "For this task, define a new variable `data_ph` by slicing the first timestep of `data` and clipping the bounding box as close as you can to the Philippines by customizing the longitude and latitude. Afterwards, redo the `t2m` calculations and plots in Task 2. Create a new code block below, and don't forget to substitute your variables.  You can use the code snippet below to get you started.\n",
    "\n",
    "```python\n",
    "data_ph = data.sel(valid_time='2009-09-27 00:00', longitude=slice(111, 112), latitude=slice(21, 20))\n",
    "t2m_ph = data_ph['t2m']\n",
    "```"
   ]
  },
  {
   "cell_type": "markdown",
   "id": "4f0060b3-b5db-420f-913c-c8797f6e9f51",
   "metadata": {},
   "source": [
    "#### Questions\n",
    "\n",
    "1. For the same timestep (`i=0` or `valid_time='2009-09-27 00:00`') compare the temperature statistics you calculated for sliced data (Task 3) and for the whole region (Task 2). Explain why the values are different.\n",
    "2. Repeat the plots for either `i=3` or `valid_time='2009-09-27 12:00'` for the same latitude and longitude slices. Compare and contrast the different maps. What could be the reason for the difference in temperatures for the two timesteps?"
   ]
  },
  {
   "cell_type": "markdown",
   "id": "0ff3da30-7a84-4e11-bea0-2ab5496f5d18",
   "metadata": {},
   "source": [
    "#### Answers"
   ]
  },
  {
   "cell_type": "code",
   "execution_count": null,
   "id": "2cff52d0-a640-49e7-83b3-208580c1445d",
   "metadata": {},
   "outputs": [],
   "source": []
  },
  {
   "cell_type": "markdown",
   "id": "37287510-fe0e-407e-97db-c370c1c6de60",
   "metadata": {},
   "source": [
    "---\n",
    "\n",
    "### Task 4: Plotting `tp` (Total Precipitation)\n",
    "\n",
    "Now that you’ve explored the `t2m` (2-meter temperature) variable, let’s try visualizing total precipitation (`tp`) over the Philippines. This exercise will test your ability to adapt code, interpret data, and customize plots as needed.\n",
    "\n",
    "1. Adapt the Scripts Above: Modify the code from Task 3 to work with the `tp` variable instead of `t2m`. Make sure to:\n",
    "    - Access the `tp` variable in the dataset.\n",
    "    - Define your region of interest\n",
    "    - Calculate descriptive statistics such as the mean, minimum, and maximum for `tp`.\n",
    "    - Use two cells to plot two time slices of `tp` to show the spatial distribution of precipitation.\n",
    "2. Customization\n",
    "   - Adjust [color maps](https://matplotlib.org/stable/users/explain/colors/colormaps.html) as needed.\n",
    "   - Update the title, color bar label, units\n",
    "   - Don't forget to update vmin, vmax of `ax.pcolormesh` as needed\n",
    "3. Hints:\n",
    "   - Remember that `tp` represents total precipitation, so the units and values may differ significantly from temperature.\n",
    "   - Use the [ERA5 data documentation](https://confluence.ecmwf.int/display/CKB/ERA5%3A+data+documentation) if you need clarification on the meaning of this variable.\n",
    "   - Use as many cells as you can."
   ]
  },
  {
   "cell_type": "markdown",
   "id": "851c79d1-20e8-4418-a544-13d037c3c7f4",
   "metadata": {},
   "source": [
    "#### Questions:\n",
    "1. What are the mean, minimum, and maximum values for precipitation (`tp`) for your selected region?\n",
    "2. How does precipitation vary across the Philippines in this time slice?\n",
    "3. How does the distribution of `tp` differ from `t2m`?"
   ]
  },
  {
   "cell_type": "code",
   "execution_count": null,
   "id": "a18c6992-66b7-4f73-85b1-33253c34d5b7",
   "metadata": {},
   "outputs": [],
   "source": []
  },
  {
   "cell_type": "markdown",
   "id": "31bfdaa9-8cf9-42f3-93fc-72800924e3eb",
   "metadata": {},
   "source": [
    "---\n",
    "### Task 5. Visualizing Wind Speed and Direction during a Tropical Cyclone\n",
    "\n",
    "In this task, you will visualize the near-surface wind field associated with a tropical cyclone event (e.g., Tropical Storm Ondoy).\n",
    "You’ll use the ERA5 variables `u10` and `v10`, which represent the zonal (east-west) and meridional (north-south) components of the 10-meter wind.\n",
    "\n",
    "#### Steps\n",
    "1. Open the dataset and extract the u10 and v10 variables.\n",
    "2. Select a time index using isel(valid_time=ts) where ts can be 0, 1, 2, or 3.\n",
    "3. Compute the wind speed magnitude as:\n",
    "```python\n",
    "uv = np.sqrt(u10_slice**2 + v10_slice**2)\n",
    "```\n",
    "5. Create a map plot showing:\n",
    "    - The wind speed (uv) as a color field (using `pcolormesh`)\n",
    "    - Wind barbs to indicate direction and strength (`plt.barbs`)\n",
    "6. Repeat the plot for four consecutive timesteps (`ts = 0, 1, 2, 3`).\n",
    "\n",
    "Initial scripts are provided below"
   ]
  },
  {
   "cell_type": "code",
   "execution_count": null,
   "id": "92c38500-6cbd-41ca-85ff-94b0f964d4ef",
   "metadata": {},
   "outputs": [],
   "source": [
    "data = xr.open_dataset(file_path)\n",
    "\n",
    "# Access the 'u10' and 'v10' variable\n",
    "u10 = data[]\n",
    "v10 = data[]\n",
    "\n",
    "# Select the data\n",
    "ts = 1\n",
    "u10_slice = u10.isel(valid_time=ts) \n",
    "v10_slice = v10.isel(valid_time=ts) \n",
    "\n",
    "# Calculate for magnitude\n",
    "uv = np.sqrt(u10_slice**2 + v10_slice**2)\n",
    "\n",
    "# Plot\n",
    "fig = plt.figure(figsize=(10, 8))\n",
    "ax = plt.axes(projection=ccrs.PlateCarree())\n",
    "\n",
    "ax.set_extent([110, 140, 0, 30], crs=ccrs.PlateCarree()) \n",
    "\n",
    "# Add coastlines and gridlines\n",
    "ax.coastlines(resolution=\"10m\", linewidth=1)\n",
    "ax.add_feature(cfeature.BORDERS, linestyle=':')\n",
    "\n",
    "# Plot the colormesh\n",
    "ax.pcolormesh(data['longitude'], data['latitude'], uv)\n",
    "\n",
    "# Add wind direction using barbs\n",
    "plt.barbs(data['longitude'][::10], data['latitude'][::10], u10_slice[::10, ::10].values, \n",
    "          v10_slice[::10, ::10].values, transform=ccrs.PlateCarree(), length=6)\n",
    "\n",
    "plt.show()"
   ]
  },
  {
   "cell_type": "markdown",
   "id": "d3034f8b-91b8-490d-858b-86267a5b3072",
   "metadata": {},
   "source": [
    "#### Questions\n",
    "\n",
    "1. How does the wind field evolve as the tropical cyclone moves or intensifies?\n",
    "2. Where do the strongest winds occur, and how do they relate spatially to heaviest rainfall areas in Task 4?\n",
    "3. Can you identify the approximate storm center based on the wind direction pattern?"
   ]
  },
  {
   "cell_type": "markdown",
   "id": "4801943a-19b6-4916-b7c4-4b4826e1c0c4",
   "metadata": {},
   "source": [
    "---\n",
    "\n",
    "### Final Questions\n",
    "1. What did you notice about the structure of the ERA5 NetCDF file in terms of its dimensions (time, latitude, longitude) and available variables?How do these dimensions relate to the physical meaning of the data?\n",
    "2. How did changing the timestep (valid_time) affect the spatial distribution of temperature, precipitation, and winds? What patterns or temporal variations stood out?\n",
    "3. When you subset the data by location, what differences did you observe compared to the full domain? What does this tell you about the importance of spatial resolution and extent in interpreting atmospheric datasets?\n",
    "4. How are wind patterns related to precipitation and temperature fields in your plots?\n",
    "5. What steps were needed to go from a raw NetCDF file to a meaningful scientific visualization?\n",
    "6. What challenges did you encounter, and how would you approach similar datasets in future analyses?\n"
   ]
  }
 ],
 "metadata": {
  "kernelspec": {
   "display_name": "Python (meteo203)",
   "language": "python",
   "name": "meteo203"
  },
  "language_info": {
   "codemirror_mode": {
    "name": "ipython",
    "version": 3
   },
   "file_extension": ".py",
   "mimetype": "text/x-python",
   "name": "python",
   "nbconvert_exporter": "python",
   "pygments_lexer": "ipython3",
   "version": "3.13.9"
  }
 },
 "nbformat": 4,
 "nbformat_minor": 5
}
